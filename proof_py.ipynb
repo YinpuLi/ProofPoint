{
 "cells": [
  {
   "cell_type": "markdown",
   "id": "another-clear",
   "metadata": {},
   "source": [
    "MultiClass Classification Project Report\n",
    "==============================================================\n",
    "\n",
    "## 1. Multi-Class Classification Overview\n",
    "\n",
    "In machine learning, multi-class or multinomial classification refers to the problem classifying instances in one or more classes. In such a problem, each record belongs to exactly one category, and the goal of the algorithms is to construct a classifier that, given a new data point, correctly identifies in which class the new data point falls. We use the following notations throughout the report.\n",
    "\n",
    "Given the data set $D = \\{({x}_i,\\, y_i)_{i = 1}^{n=140}  \\}$ consisting $n$ observations, the input ${x}_i \\in \\mathbb{R}^p$ is a vector of $p = 908$ features for one subject, and the output/response, $y_i \\in \\{1, 2, \\cdots, K\\}$, belongs to one out of $K = 3$ categories, and each input/subject belongs to exactly one class. \n",
    "\n",
    "### 1.1 Approaches for Multi-Class Classification\n",
    "There are two key ideas to solve such multi-class problems. The first idea is to reduce the multi-class into binary, where we start with decomposing the multi-class response into multiple binary decisions, and then make final decisions based on multiple binary classifiers. The second idea is to train a single classifier instead of reducing into multiple classifiers. This approach is similar to the common machine learning approaches, where we minimize the empirical risk by considering all classes simultaneously.\n",
    "\n",
    "#### 1.1.1 Reducing Multi-Class into Binary\n",
    "\n",
    "* **One-vs-Rest Strategy**\n",
    "\n",
    "    In this case, we assume each class is individually separable from all the others. The multi-class problem is decomposed into $K$ binary classification tasks, and train $K$ models. Specifically, for each class $k \\in \\{1,2,\\cdots, K\\}$, we construct a binary classification model such as \n",
    "    * Positive Events: the subject belongs to class $k$;\n",
    "    * Negative Events: the subject belongs to any class other than $k$.\n",
    "\n",
    "    For each task, we could use any binary classification algorithms, like logistic regression, decision tree, etc., and build single models. When doing inference, we use the \"Winner-Takes-All\" rule, that is, the subject is classified into the category that has maximum probability when assessed in each model.\n",
    "\n",
    "* **One-vs-One Strategy**\n",
    "\n",
    "    It could also be called \\textit{All-vs-All}. As its name suggests, we need to compare each pair of two categories, assuming every pair is separable. So the multi-class problem is decomposed into ${K \\choose 2}$ binary classification tasks, and train ${K \\choose 2} = K(K-1)/2$ models. Specifically, for each pair of classes, $(i,\\, j)$, we construct a binary classification model such as\n",
    "    * Positive Events: the subject belongs to class $i$;\n",
    "    * Negative Events: the subject belongs to class $j$.\n",
    "\n",
    "    Similarly, for each task, we could use logistic regression, decision tree, etc., and learn each model\n",
    "\n",
    "\n",
    "#### 1.1.2 Inherently Multi-Class Classifier\n",
    "\n",
    "Except for the two approaches above, some models inherently support multi-class classification. Popular choices include multi-class SVM, multinomial logistic regression, KNN, Decision Tree-based methods, LDA, ect. \n",
    "\n",
    "#### 1.1.3 Error-Correcting Output Code-based strategies\n",
    "\n",
    "Each class is represented by a binary code (an array of 0 and 1). The matrix which keeps track of the location/code of each class is called code book. Intuitively, each class should be represented by a code as unique as possible and a good code book should be designed to optimize classification accuracy. At fitting time, one binary classifier per bit in the code book is fitted. At prediction time, the classifiers are used to project new points in the class space and the class closest to the points is chosen. And the error-correcting output codes have a similar effect to bagging.\n",
    "\n",
    "#### 1.1.4 Ensemble\n",
    "\n",
    "When we have multiple machine learning models that are skillful on the multi-class classification problem, but in different ways, we could further use the ensemble aggregation technique to learn how to best combine the predictions from two or more base machine learning algorithms to make a prediction as good as or better than any single base models that we have investigated. Most ensemble methods use a single base learning algorithm to produce homogeneous base learners, i.e. learner of the same type, leading to homogeneous ensembles. There are also some methods that use heterogeneous ensembles. In order for ensemble methods to be more accurate than any of its individual members, the base learner have to be as accurate as possible and as diverse as possible.\n",
    "\n",
    "* **Boosting**\n",
    "    If we choose base models with low variance but high bias, it should be with an aggregating method called boosting that tends to reduce bias. Examples of boosting algorithms include AdaBoost, Gradient Tree Boosting, xgboost and lightgbm.\n",
    "     \n",
    "\n",
    "* **Bagging**\n",
    "    If we choose base models with low bias but high variance, it should be with an aggregating method called bagging that tends to reduce variance. Examples of bagging include Random Forest, extra trees, ect.\n",
    "    \n",
    "    \n",
    "* **Stacking**\n",
    "    We could also use Stacked Generalization, or so-called super-learner. The architecture of a stacking model involves two or more base models. The stack, or the meta-model, is trained on the predictions made by base models on out-of-sample data. In classification problems, we could use a logistic regression model, or a random forest, or even a neural network as our meta-model. The meta-model takes in predictions from base models as input, and predicts the labels for the training set. To make a prediction on a new sample, firstly, the row of the data is provided as input to each base model to generate a prediction from each base model. The predictions from the base models are concatenated into a vector and provided as input to the meta-model. The meta-model then makes a final prediction for the row of data. Note that, the inputs to the meta-learner could be class labels or class probabilities, with the latter more likely to be useful given the uncertainty captured in the predictions.\n",
    "    \n",
    "    Stacked generalization is a method for combining estimators to reduce their biases. More precisely, the predictions of each individual estimator are stacked together and used as input to a final estimator to compute the prediction. The final estimator is trained through cross- validation.\n",
    "\n",
    "\n",
    "\n",
    "\n",
    "### 1.2 Evaluation Metric\n",
    "\n",
    "There are many quantitative metrics({Precision, Recall, F1, Confusion Matrix, AUC score}) which could evaluate the model and see which classes the model is confusing with one another. We use *classification accuracy* as our metric."
   ]
  },
  {
   "cell_type": "code",
   "execution_count": 1,
   "id": "perfect-alaska",
   "metadata": {},
   "outputs": [],
   "source": [
    "# Import necessary modules\n",
    "import pandas as pd\n",
    "import numpy as np\n",
    "import matplotlib.pyplot as plot\n",
    "from sklearn.linear_model import LogisticRegression, LogisticRegressionCV, SGDClassifier, ElasticNet, ElasticNetCV, Perceptron, PassiveAggressiveClassifier, RidgeClassifier, RidgeClassifierCV\n",
    "from sklearn.discriminant_analysis import LinearDiscriminantAnalysis, QuadraticDiscriminantAnalysis\n",
    "from sklearn.model_selection import train_test_split \n",
    "from sklearn.metrics import confusion_matrix, classification_report, accuracy_score\n",
    "from sklearn.tree import DecisionTreeClassifier\n",
    "from sklearn.svm import SVC, LinearSVC\n",
    "from sklearn.ensemble import VotingClassifier\n",
    "from sklearn.ensemble import BaggingClassifier\n",
    "from sklearn.ensemble import RandomForestClassifier\n",
    "from sklearn.ensemble import AdaBoostClassifier\n",
    "from sklearn.ensemble import GradientBoostingClassifier\n",
    "from sklearn.ensemble import ExtraTreesClassifier\n",
    "from sklearn.neighbors import KNeighborsClassifier\n",
    "#from sklearn.ensemble import HistGradientBoostingClassifier\n",
    "from sklearn.multiclass import OneVsRestClassifier, OneVsOneClassifier,OutputCodeClassifier\n",
    "from sklearn.gaussian_process import GaussianProcessClassifier\n",
    "from sklearn.gaussian_process.kernels import RBF\n",
    "from sklearn.neural_network import MLPClassifier\n",
    "from sklearn.neighbors import KNeighborsClassifier\n",
    "from sklearn.ensemble import StackingClassifier, RandomTreesEmbedding, IsolationForest\n",
    "from sklearn.inspection import permutation_importance\n",
    "from sklearn.experimental import enable_hist_gradient_boosting\n",
    "from scipy import stats\n",
    "from sklearn import preprocessing\n",
    "from sklearn import naive_bayes\n",
    "from sklearn import model_selection\n",
    "\n",
    "#!conda install -c anaconda seaborn -y\n",
    "import seaborn as sns\n",
    "import time\n",
    "#import resource \n",
    "#import sys\n",
    "#!{sys.executable} -m pip install xgboost\n",
    "#!{sys.executable} -m pip install lightgbm\n",
    "import xgboost\n",
    "import lightgbm as lgb\n",
    "import warnings\n",
    "warnings.filterwarnings(\"ignore\")\n",
    "\n",
    "my_rands = 2021512"
   ]
  },
  {
   "cell_type": "markdown",
   "id": "inside-technical",
   "metadata": {},
   "source": [
    "## 2. Data Exploration\n",
    "\n",
    "We are provided with train and test data set. For each set, there are 903 features, with 3 categorical features. The following procecure finishes the task of Data Exploration, where we could answer the following questions:\n",
    "\n",
    "* **Is there any missing data?**\n",
    "\n",
    "    No there are no missing data, and we do not need to apply any imputations techqniues to handle such situation.\n",
    " \n",
    " \n",
    "* **Are the covariate features correlated?**\n",
    "\n",
    "    We will see that $X_{114}$ and $X_{521}$ are highly correlated. If we change the threshold, we will identify more correlated pairs. As there are colinearity, for prediction purpose, we should consider about machine learning methods that are robust to such situation, e.g. tree-based method, SVM. We might consider Lasso/Ridge regularization or Elastic Nets for illustration purposes.\n",
    "    \n",
    "\n",
    "* **How do the features distributed? Do we need to preprocess the data(feature scaling)?**\n",
    "\n",
    "    From the plot of density curves for a randomly selected subset of features, we could see multiple bell-shaped curves, but there are some differences in scales and ranges of the numerical featuress from the descriptive summary table. Some machine learning techniques(eg. tree-based methods) are very robust and invariant to feature scaling, while others are not. For example, the methods based on Gradient Descent optimization will be influenced with respect to the step size in gradient descent; the distance-based methods could be awfully incluenced because they use distances to determine the similarity between data points, which is strongly affected by the magnitude of the features. For better prediction purpose, we preprocessing the feature scaling over the continuous features. \n",
    "    \n",
    "    Standardization is the process of transforming data in a way such that the mean of each column becomes equal to zero, and the standard deviation of each column is one. This way, we obtain the same scale for all columns, except for the first three columns, where the features are categorical type.\n",
    "\n",
    "    And there are also three categorical features, we will do a one-hot encoding to preprocess these variables.\n",
    "\n",
    "\n",
    "* **Train-Validation**\n",
    "    To assess candidate methodologies, we split our original train data into a new train data set and a validation data set."
   ]
  },
  {
   "cell_type": "code",
   "execution_count": 2,
   "id": "unnecessary-excellence",
   "metadata": {},
   "outputs": [
    {
     "name": "stdout",
     "output_type": "stream",
     "text": [
      "False\n",
      "False\n",
      "False\n",
      "114  521    0.707406\n",
      "521  114    0.707406\n",
      "dtype: float64\n",
      "              3           4           5           6           7           8    \\\n",
      "count  140.000000  140.000000  140.000000  140.000000  140.000000  140.000000   \n",
      "mean    -3.706226    0.620541   -0.691226   -2.883438    0.798445    0.276561   \n",
      "std      4.064704    3.014747    3.295262    3.331956    3.484214    3.203680   \n",
      "min    -12.753200   -8.020900   -9.688800  -10.540100   -8.493400   -6.525400   \n",
      "25%     -6.393700   -1.665500   -2.625975   -5.215000   -1.934025   -1.833875   \n",
      "50%     -4.022400    0.559550   -0.651150   -3.022050    1.005600    0.309250   \n",
      "75%     -0.860025    2.784550    1.432475   -0.441100    3.353100    2.432525   \n",
      "max      7.862500    9.077900    7.729800    5.230100   10.856000    8.125200   \n",
      "\n",
      "              9           10          11          12   ...         893  \\\n",
      "count  140.000000  140.000000  140.000000  140.000000  ...  140.000000   \n",
      "mean     0.382528   -0.890959   -1.694734   -0.719966  ...   -1.508409   \n",
      "std      3.114446    3.221021    3.639898    3.124935  ...    3.125331   \n",
      "min     -8.397000   -8.372300  -10.153200  -10.185400  ...   -8.152700   \n",
      "25%     -1.871550   -2.941725   -3.986725   -2.876275  ...   -3.739425   \n",
      "50%      0.454450   -0.826550   -1.664150   -0.940650  ...   -1.873850   \n",
      "75%      2.270475    1.324300    0.575900    1.441625  ...    0.490925   \n",
      "max      9.032900    8.249100    7.994100    7.576900  ...    7.073000   \n",
      "\n",
      "              894         895         896         897         898         899  \\\n",
      "count  140.000000  140.000000  140.000000  140.000000  140.000000  140.000000   \n",
      "mean    -1.576743    0.190566    0.665053   -0.774684    0.931779    0.791181   \n",
      "std      3.262723    3.429600    3.092077    3.462897    3.301253    3.131848   \n",
      "min    -10.229800   -8.713400   -9.106600  -11.294900   -7.695700   -7.090500   \n",
      "25%     -3.837325   -2.248525   -1.361275   -3.141325   -0.960575   -1.299400   \n",
      "50%     -1.594600    0.274000    0.456750   -1.232550    1.210100    0.785650   \n",
      "75%      0.554300    2.449825    2.790450    1.842575    3.121575    2.618375   \n",
      "max      6.822000   11.433600    9.259000    7.385900   12.639000    9.713000   \n",
      "\n",
      "              900         901         902  \n",
      "count  140.000000  140.000000  140.000000  \n",
      "mean    -0.458641    0.723416   -0.132218  \n",
      "std      2.616963    3.382829    3.657816  \n",
      "min     -6.851600   -6.184400   -9.723500  \n",
      "25%     -2.491375   -1.769575   -2.728575  \n",
      "50%     -0.055900    0.350250    0.200050  \n",
      "75%      1.136900    3.384000    2.175950  \n",
      "max      5.019900    8.439900    9.632300  \n",
      "\n",
      "[8 rows x 900 columns]\n"
     ]
    },
    {
     "data": {
      "image/png": "[encoded data removed]",
      "text/plain": [
       "<Figure size 432x288 with 1 Axes>"
      ]
     },
     "metadata": {
      "needs_background": "light"
     },
     "output_type": "display_data"
    }
   ],
   "source": [
    "# Load Data\n",
    "X = pd.read_csv('train_features.csv', header=None)\n",
    "y = pd.read_csv('train_labels.csv', header = None)\n",
    "X_test = pd.read_csv('test_features.csv', header = None)\n",
    "\n",
    "# Is there any missing values?\n",
    "print(X.isnull().values.any())\n",
    "print(X_test.isnull().values.any())\n",
    "print(y.isnull().values.any())\n",
    "\n",
    "# Are the features correlated? \n",
    "corr = X.corr()\n",
    "# print(corr) \n",
    "# The corr matrix is too big, we list highest correlation pairs from the large correlation catrix instead\n",
    "c = X.corr().abs()\n",
    "s = c.unstack()\n",
    "so = s.sort_values(kind=\"quicksort\", ascending = False)\n",
    "thresh = 0.7\n",
    "print(so[(so != 1.0) & (so > thresh)])\n",
    "\n",
    "# How do the features distributed? Do we need feature scaling?\n",
    "# there are too many features, we only show a randomly selected subset of features to see their desity curves\n",
    "df = X.sample(axis='columns',n=10, random_state = my_rands)\n",
    "ax = df.plot.kde(bw_method=1)\n",
    "#ax.get_legend().remove()\n",
    "print(X.describe())\n",
    "\n",
    "# one-hot encoding \n",
    "X = pd.get_dummies(X, columns = [0,1,2])\n",
    "X_test = pd.get_dummies(X_test, columns = [0,1,2])\n",
    "\n",
    "# scaling: \n",
    "#  the goal is to use the scaler to handle all data and put them back to X and X_test\n",
    "scaler = preprocessing.StandardScaler()\n",
    "my_X = scaler.fit_transform(X.iloc[:, 0:900])\n",
    "my_X = pd.DataFrame(my_X)\n",
    "df_c = pd.concat([my_X, X.iloc[:, 900:]], axis=1)\n",
    "df_c.columns = X.columns\n",
    "\n",
    "my_X_test = scaler.fit_transform(X_test.iloc[:, 0:900])\n",
    "my_X_test = pd.DataFrame(my_X_test)\n",
    "df_t = pd.concat([my_X_test, X_test.iloc[:, 900:]], axis=1)\n",
    "df_t.columns = X_test.columns\n",
    "\n",
    "X = df_c\n",
    "X_test = df_t\n",
    "\n",
    "# X_train, X_valid, y_train, y_valid for training and validation purposes\n",
    "X_train, X_valid, y_train, y_valid = train_test_split(X, y, test_size = 0.3, random_state=my_rands)"
   ]
  },
  {
   "cell_type": "markdown",
   "id": "earned-peoples",
   "metadata": {},
   "source": [
    "## 3. Building Machine Learning Models\n",
    "\n",
    "We assessed a variety of machine learning methods, and consider different ways to ensemble the learners into super learners. We will train different models over the train set and make predictions over the validation set, so that we could choose among different candidates. All of the models have been fitted with tuned parameters."
   ]
  },
  {
   "cell_type": "code",
   "execution_count": 3,
   "id": "impaired-repeat",
   "metadata": {},
   "outputs": [
    {
     "name": "stdout",
     "output_type": "stream",
     "text": [
      "[[ 0  4  2]\n",
      " [ 0 20  1]\n",
      " [ 1  6  8]]\n",
      "              precision    recall  f1-score   support\n",
      "\n",
      "           0       0.00      0.00      0.00         6\n",
      "           1       0.67      0.95      0.78        21\n",
      "           2       0.73      0.53      0.62        15\n",
      "\n",
      "    accuracy                           0.67        42\n",
      "   macro avg       0.46      0.50      0.47        42\n",
      "weighted avg       0.59      0.67      0.61        42\n",
      "\n",
      "0.697777777777778\n",
      "0.6666666666666666\n",
      " 60.7 secs\n"
     ]
    }
   ],
   "source": [
    "# Logistic Regression(cross validated) \n",
    "time0 = time.clock()\n",
    "logreg_cv = LogisticRegressionCV(multi_class = 'multinomial', cv=10,random_state = my_rands)\n",
    "logreg_cv.fit(X_train, y_train.values.ravel())\n",
    "y_pred_cv = logreg_cv.predict(X_valid)\n",
    "print(confusion_matrix(y_valid, y_pred_cv))\n",
    "print(classification_report(y_valid, y_pred_cv))\n",
    "kfold = model_selection.RepeatedStratifiedKFold(n_splits=10, n_repeats=3, random_state=my_rands)\n",
    "results_cv = model_selection.cross_val_score(logreg_cv, X_train, y_train.values.ravel(), cv = kfold)\n",
    "print(results_cv.mean())\n",
    "print(accuracy_score(y_valid, y_pred_cv))\n",
    "time1 = (time.clock() - time0)\n",
    "print (\"%5.1f secs\" % (time1))"
   ]
  },
  {
   "cell_type": "code",
   "execution_count": 4,
   "id": "occupational-sheriff",
   "metadata": {},
   "outputs": [
    {
     "name": "stdout",
     "output_type": "stream",
     "text": [
      "[[ 1  4  1]\n",
      " [ 1 20  0]\n",
      " [ 4  6  5]]\n",
      "              precision    recall  f1-score   support\n",
      "\n",
      "           0       0.17      0.17      0.17         6\n",
      "           1       0.67      0.95      0.78        21\n",
      "           2       0.83      0.33      0.48        15\n",
      "\n",
      "    accuracy                           0.62        42\n",
      "   macro avg       0.56      0.48      0.48        42\n",
      "weighted avg       0.65      0.62      0.59        42\n",
      "\n",
      "0.6874074074074075\n",
      " 81.1 secs\n"
     ]
    },
    {
     "data": {
      "text/plain": [
       "0.6190476190476191"
      ]
     },
     "execution_count": 4,
     "metadata": {},
     "output_type": "execute_result"
    }
   ],
   "source": [
    "##### ovr better than multiclass? No\n",
    "time0 = time.clock()\n",
    "logreg_cv = LogisticRegressionCV(#multi_class = 'multinomial', \n",
    "                                 cv=10, multi_class = 'ovr',\n",
    "                                 random_state = my_rands)\n",
    "logreg_cv.fit(X_train, y_train.values.ravel())\n",
    "y_pred_cv = logreg_cv.predict(X_valid)\n",
    "print(confusion_matrix(y_valid, y_pred_cv))\n",
    "print(classification_report(y_valid, y_pred_cv))\n",
    "kfold = model_selection.RepeatedStratifiedKFold(n_splits=10, n_repeats=3, random_state=my_rands)\n",
    "results_cv_ovr = model_selection.cross_val_score(logreg_cv, X_train, y_train.values.ravel(), cv = kfold)\n",
    "print(results_cv_ovr.mean())\n",
    "time1 = (time.clock() - time0)\n",
    "print (\"%5.1f secs\" % (time1))\n",
    "accuracy_score(y_valid, y_pred_cv)"
   ]
  },
  {
   "cell_type": "code",
   "execution_count": 5,
   "id": "opened-community",
   "metadata": {
    "scrolled": true
   },
   "outputs": [
    {
     "name": "stdout",
     "output_type": "stream",
     "text": [
      "[[ 0  4  2]\n",
      " [ 0 21  0]\n",
      " [ 1  9  5]]\n",
      "              precision    recall  f1-score   support\n",
      "\n",
      "           0       0.00      0.00      0.00         6\n",
      "           1       0.62      1.00      0.76        21\n",
      "           2       0.71      0.33      0.45        15\n",
      "\n",
      "    accuracy                           0.62        42\n",
      "   macro avg       0.44      0.44      0.41        42\n",
      "weighted avg       0.56      0.62      0.54        42\n",
      "\n",
      "0.7044444444444447\n",
      "  1.0 secs\n"
     ]
    },
    {
     "data": {
      "text/plain": [
       "0.6190476190476191"
      ]
     },
     "execution_count": 5,
     "metadata": {},
     "output_type": "execute_result"
    }
   ],
   "source": [
    "# Ridge \n",
    "time0 = time.clock()\n",
    "model_ridge = RidgeClassifierCV()\n",
    "model_ridge.fit(X_train, y_train.values.ravel())\n",
    "y_pred_ridge = model_ridge.predict(X_valid)\n",
    "print(confusion_matrix(y_valid, y_pred_ridge))\n",
    "print(classification_report(y_valid, y_pred_ridge))\n",
    "kfold = model_selection.RepeatedStratifiedKFold(n_splits=10, n_repeats=3, random_state=my_rands)\n",
    "results_ridge = model_selection.cross_val_score(model_ridge, X_train, y_train.values.ravel(), cv = kfold)\n",
    "print(results_ridge.mean())\n",
    "time1 = (time.clock() - time0)\n",
    "print (\"%5.1f secs\" % (time1))\n",
    "accuracy_score(y_valid, y_pred_ridge)"
   ]
  },
  {
   "cell_type": "code",
   "execution_count": 6,
   "id": "veterinary-candidate",
   "metadata": {},
   "outputs": [
    {
     "name": "stdout",
     "output_type": "stream",
     "text": [
      "[[ 3  3  0]\n",
      " [ 0 21  0]\n",
      " [ 0  0 15]]\n",
      "              precision    recall  f1-score   support\n",
      "\n",
      "           0       1.00      0.50      0.67         6\n",
      "           1       0.88      1.00      0.93        21\n",
      "           2       1.00      1.00      1.00        15\n",
      "\n",
      "    accuracy                           0.93        42\n",
      "   macro avg       0.96      0.83      0.87        42\n",
      "weighted avg       0.94      0.93      0.92        42\n",
      "\n",
      "0.9522222222222222\n",
      "  9.0 secs\n"
     ]
    },
    {
     "data": {
      "text/plain": [
       "0.9285714285714286"
      ]
     },
     "execution_count": 6,
     "metadata": {},
     "output_type": "execute_result"
    }
   ],
   "source": [
    "# Regularized Logistic Regression with L1 penalty\n",
    "time0 = time.clock()\n",
    "reglogreg = LogisticRegression(multi_class = 'multinomial', \n",
    "                               penalty = 'l1',\n",
    "                               solver = 'saga',\n",
    "                               C = 0.5,\n",
    "                               tol = 0.001,\n",
    "                               random_state = my_rands)\n",
    "reglogreg.fit(X_train, y_train.values.ravel())\n",
    "y_pred_reglogreg = reglogreg.predict(X_valid)\n",
    "results_reglogreg = model_selection.cross_val_score(reglogreg, X_train, y_train.values.ravel(), cv = kfold)\n",
    "print(confusion_matrix(y_valid, y_pred_reglogreg))\n",
    "print(classification_report(y_valid, y_pred_reglogreg))\n",
    "print(results_reglogreg.mean())\n",
    "time1 = (time.clock() - time0)\n",
    "print (\"%5.1f secs\" % (time1))\n",
    "accuracy_score(y_valid, y_pred_reglogreg)"
   ]
  },
  {
   "cell_type": "code",
   "execution_count": 49,
   "id": "caroline-intake",
   "metadata": {},
   "outputs": [
    {
     "data": {
      "image/png": "[encoded data removed]",
      "text/plain": [
       "<Figure size 216x216 with 1 Axes>"
      ]
     },
     "metadata": {
      "needs_background": "light"
     },
     "output_type": "display_data"
    }
   ],
   "source": [
    "# heatmap that illustrates the confusion matrix with numbers and colors WOWFLAG\n",
    "\n",
    "#  The number on the main diagonal show the number of correct predictions from the validation set.\n",
    "#  Other numbers correspond to the incorrect predictions. \n",
    "cm_reglogreg = confusion_matrix(y_valid, y_pred_reglogreg)\n",
    "fig, ax = plot.subplots(figsize=(3,3))\n",
    "ax.imshow(cm_reglogreg)\n",
    "ax.grid(False)\n",
    "ax.set_xlabel('Predicted outputs', color='black')\n",
    "ax.set_ylabel('Actual outputs', color='black')\n",
    "ax.xaxis.set(ticks=range(3))\n",
    "ax.yaxis.set(ticks=range(3))\n",
    "ax.set_ylim(2.5, -0.5)\n",
    "for i in range(3):\n",
    "    for j in range(3):\n",
    "        ax.text(j, i, cm_reglogreg[i, j], ha='center', va='center', color='white')\n",
    "plot.show()"
   ]
  },
  {
   "cell_type": "code",
   "execution_count": 7,
   "id": "attractive-defensive",
   "metadata": {},
   "outputs": [
    {
     "name": "stdout",
     "output_type": "stream",
     "text": [
      "[[ 3  3  0]\n",
      " [ 0 21  0]\n",
      " [ 0  0 15]]\n",
      "              precision    recall  f1-score   support\n",
      "\n",
      "           0       1.00      0.50      0.67         6\n",
      "           1       0.88      1.00      0.93        21\n",
      "           2       1.00      1.00      1.00        15\n",
      "\n",
      "    accuracy                           0.93        42\n",
      "   macro avg       0.96      0.83      0.87        42\n",
      "weighted avg       0.94      0.93      0.92        42\n",
      "\n",
      "0.9388888888888888\n",
      "  8.0 secs\n"
     ]
    },
    {
     "data": {
      "text/plain": [
       "0.9285714285714286"
      ]
     },
     "execution_count": 7,
     "metadata": {},
     "output_type": "execute_result"
    }
   ],
   "source": [
    "# Regularized Logistic Regression with L1-L2 penalty /glmnet/elasticNet\n",
    "time0 = time.clock()\n",
    "reglogreg2 = LogisticRegression(multi_class = 'multinomial', \n",
    "                               penalty = 'elasticnet',\n",
    "                               l1_ratio = 0.55,\n",
    "                               solver = 'saga',\n",
    "                               C = 0.25,\n",
    "                               tol = 0.001,\n",
    "                               random_state = my_rands)\n",
    "reglogreg2.fit(X_train, y_train.values.ravel())\n",
    "y_pred_reglogreg2 = reglogreg2.predict(X_valid)\n",
    "results_reglogreg2 = model_selection.cross_val_score(reglogreg2, X_train, y_train.values.ravel(), cv = kfold)\n",
    "print(confusion_matrix(y_valid, y_pred_reglogreg2))\n",
    "print(classification_report(y_valid, y_pred_reglogreg2))\n",
    "print(results_reglogreg2.mean())\n",
    "time1 = (time.clock() - time0)\n",
    "print (\"%5.1f secs\" % (time1))\n",
    "accuracy_score(y_valid, y_pred_reglogreg2)"
   ]
  },
  {
   "cell_type": "code",
   "execution_count": 50,
   "id": "curious-antarctica",
   "metadata": {},
   "outputs": [
    {
     "data": {
      "image/png": "[encoded data removed]",
      "text/plain": [
       "<Figure size 216x216 with 1 Axes>"
      ]
     },
     "metadata": {
      "needs_background": "light"
     },
     "output_type": "display_data"
    }
   ],
   "source": [
    "# heatmap that illustrates the confusion matrix with numbers and colors WOWFLAG\n",
    "\n",
    "#  The number on the main diagonal show the number of correct predictions from the validation set.\n",
    "#  Other numbers correspond to the incorrect predictions. \n",
    "cm_reglogreg2 = confusion_matrix(y_valid, y_pred_reglogreg2)\n",
    "fig, ax = plot.subplots(figsize=(3,3))\n",
    "ax.imshow(cm_reglogreg2)\n",
    "ax.grid(False)\n",
    "ax.set_xlabel('Predicted outputs', color='black')\n",
    "ax.set_ylabel('Actual outputs', color='black')\n",
    "ax.xaxis.set(ticks=range(3))\n",
    "ax.yaxis.set(ticks=range(3))\n",
    "ax.set_ylim(2.5, -0.5)\n",
    "for i in range(3):\n",
    "    for j in range(3):\n",
    "        ax.text(j, i, cm_reglogreg2[i, j], ha='center', va='center', color='white')\n",
    "plot.show()"
   ]
  },
  {
   "cell_type": "code",
   "execution_count": 8,
   "id": "unsigned-peninsula",
   "metadata": {},
   "outputs": [
    {
     "name": "stdout",
     "output_type": "stream",
     "text": [
      "[[ 3  3  0]\n",
      " [ 0 21  0]\n",
      " [ 0  0 15]]\n",
      "              precision    recall  f1-score   support\n",
      "\n",
      "           0       1.00      0.50      0.67         6\n",
      "           1       0.88      1.00      0.93        21\n",
      "           2       1.00      1.00      1.00        15\n",
      "\n",
      "    accuracy                           0.93        42\n",
      "   macro avg       0.96      0.83      0.87        42\n",
      "weighted avg       0.94      0.93      0.92        42\n",
      "\n",
      "0.9151851851851851\n",
      " 58.7 secs\n"
     ]
    },
    {
     "data": {
      "text/plain": [
       "0.9285714285714286"
      ]
     },
     "execution_count": 8,
     "metadata": {},
     "output_type": "execute_result"
    }
   ],
   "source": [
    "# (Error-Correcting) Output-Code multiclass strategy\n",
    "time0 = time.clock()\n",
    "model_ec = OutputCodeClassifier(reglogreg, code_size = 5)\n",
    "model_ec.fit(X_train, y_train.values.ravel())\n",
    "y_pred_ec = model_ec.predict(X_valid)\n",
    "print(confusion_matrix(y_valid, y_pred_ec))\n",
    "print(classification_report(y_valid, y_pred_ec))\n",
    "kfold = model_selection.RepeatedStratifiedKFold(n_splits=10, n_repeats=3, random_state=my_rands)\n",
    "results_ec = model_selection.cross_val_score(model_ec, X_train, y_train.values.ravel(), cv = kfold)\n",
    "print(results_ec.mean())\n",
    "time1 = (time.clock() - time0)\n",
    "print (\"%5.1f secs\" % (time1))\n",
    "accuracy_score(y_valid, y_pred_ec)"
   ]
  },
  {
   "cell_type": "code",
   "execution_count": 51,
   "id": "danish-terrace",
   "metadata": {},
   "outputs": [
    {
     "data": {
      "image/png": "[encoded data removed]",
      "text/plain": [
       "<Figure size 216x216 with 1 Axes>"
      ]
     },
     "metadata": {
      "needs_background": "light"
     },
     "output_type": "display_data"
    }
   ],
   "source": [
    "# heatmap that illustrates the confusion matrix with numbers and colors WOWFLAG\n",
    "\n",
    "#  The number on the main diagonal show the number of correct predictions from the validation set.\n",
    "#  Other numbers correspond to the incorrect predictions. \n",
    "cm_ec = confusion_matrix(y_valid, y_pred_ec)\n",
    "fig, ax = plot.subplots(figsize=(3,3))\n",
    "ax.imshow(cm_ec)\n",
    "ax.grid(False)\n",
    "ax.set_xlabel('Predicted outputs', color='black')\n",
    "ax.set_ylabel('Actual outputs', color='black')\n",
    "ax.xaxis.set(ticks=range(3))\n",
    "ax.yaxis.set(ticks=range(3))\n",
    "ax.set_ylim(2.5, -0.5)\n",
    "for i in range(3):\n",
    "    for j in range(3):\n",
    "        ax.text(j, i, cm_ec[i, j], ha='center', va='center', color='white')\n",
    "plot.show()"
   ]
  },
  {
   "cell_type": "code",
   "execution_count": 9,
   "id": "impressed-central",
   "metadata": {},
   "outputs": [
    {
     "name": "stdout",
     "output_type": "stream",
     "text": [
      "[[ 0  3  3]\n",
      " [ 0 18  3]\n",
      " [ 0  9  6]]\n",
      "              precision    recall  f1-score   support\n",
      "\n",
      "           0       0.00      0.00      0.00         6\n",
      "           1       0.60      0.86      0.71        21\n",
      "           2       0.50      0.40      0.44        15\n",
      "\n",
      "    accuracy                           0.57        42\n",
      "   macro avg       0.37      0.42      0.38        42\n",
      "weighted avg       0.48      0.57      0.51        42\n",
      "\n",
      "0.6151851851851852\n",
      "  0.6 secs\n"
     ]
    },
    {
     "data": {
      "text/plain": [
       "0.5714285714285714"
      ]
     },
     "execution_count": 9,
     "metadata": {},
     "output_type": "execute_result"
    }
   ],
   "source": [
    "# Naive Bayes\n",
    "time0 = time.clock()\n",
    "nb = naive_bayes.GaussianNB()\n",
    "nb.fit(X_train, y_train.values.ravel())\n",
    "nb_pred = nb.predict(X_valid)\n",
    "nb_prob_pred = nb.predict_proba(X_valid)\n",
    "print(confusion_matrix(y_valid, nb_pred))\n",
    "print(classification_report(y_valid, nb_pred))\n",
    "kfold = model_selection.RepeatedStratifiedKFold(n_splits=10, n_repeats=3, random_state=my_rands)\n",
    "results_nb = model_selection.cross_val_score(nb, X_train, y_train.values.ravel(), cv = kfold)\n",
    "print(results_nb.mean())\n",
    "time1 = (time.clock() - time0)\n",
    "print (\"%5.1f secs\" % (time1))\n",
    "accuracy_score(y_valid, nb_pred)"
   ]
  },
  {
   "cell_type": "code",
   "execution_count": 10,
   "id": "nearby-final",
   "metadata": {},
   "outputs": [
    {
     "name": "stdout",
     "output_type": "stream",
     "text": [
      "[[ 1  3  2]\n",
      " [ 0 20  1]\n",
      " [ 0 12  3]]\n",
      "              precision    recall  f1-score   support\n",
      "\n",
      "           0       1.00      0.17      0.29         6\n",
      "           1       0.57      0.95      0.71        21\n",
      "           2       0.50      0.20      0.29        15\n",
      "\n",
      "    accuracy                           0.57        42\n",
      "   macro avg       0.69      0.44      0.43        42\n",
      "weighted avg       0.61      0.57      0.50        42\n",
      "\n",
      "0.6092592592592593\n",
      "  0.8 secs\n"
     ]
    },
    {
     "data": {
      "text/plain": [
       "0.5714285714285714"
      ]
     },
     "execution_count": 10,
     "metadata": {},
     "output_type": "execute_result"
    }
   ],
   "source": [
    "# KNeighborsClassifier\n",
    "time0 = time.clock()\n",
    "model_kn = KNeighborsClassifier(n_neighbors=5,\n",
    "                                  weights='uniform', \n",
    "                                  algorithm='auto', \n",
    "                                  leaf_size=30, p=2, metric='minkowski', \n",
    "                                  metric_params=None, n_jobs=None)\n",
    "model_kn.fit(X_train, y_train.values.ravel())\n",
    "kn_pred = model_kn.predict(X_valid)\n",
    "print(confusion_matrix(y_valid, kn_pred))\n",
    "print(classification_report(y_valid, kn_pred))\n",
    "kfold = model_selection.RepeatedStratifiedKFold(n_splits=10, n_repeats=3, random_state=my_rands)\n",
    "results_kn = model_selection.cross_val_score(model_kn, X_train, y_train.values.ravel(), cv = kfold)\n",
    "\n",
    "print(results_kn.mean())\n",
    "\n",
    "#time0 = time.clock()\n",
    "time1 = (time.clock() - time0)\n",
    "print (\"%5.1f secs\" % (time1))\n",
    "\n",
    "accuracy_score(y_valid, kn_pred)"
   ]
  },
  {
   "cell_type": "code",
   "execution_count": 52,
   "id": "french-crowd",
   "metadata": {},
   "outputs": [],
   "source": [
    "# # Gaussian Process Classifier\n",
    "# time0 = time.clock()\n",
    "# model_gpc = GaussianProcessClassifier(kernel=None, \n",
    "#                                       optimizer='fmin_l_bfgs_b', \n",
    "#                                       n_restarts_optimizer=100, \n",
    "#                                       max_iter_predict=10000, \n",
    "#                                       warm_start=True, \n",
    "#                                       copy_X_train=True, \n",
    "#                                       random_state=my_rands, \n",
    "#                                       multi_class='one_vs_rest', \n",
    "#                                       n_jobs=None)\n",
    "# model_gpc.fit(X_train, y_train.values.ravel())\n",
    "# gpc_pred = model_gpc.predict(X_valid)\n",
    "# gpc_prob_pred = model_gpc.predict_proba(X_valid)\n",
    "# print(confusion_matrix(y_valid, gpc_pred))\n",
    "# print(classification_report(y_valid, gpc_pred))\n",
    "# kfold = model_selection.RepeatedStratifiedKFold(n_splits=10, n_repeats=3, random_state=my_rands)\n",
    "# results_gpc = model_selection.cross_val_score(model_gpc, X_train, y_train.values.ravel(), cv = kfold)\n",
    "\n",
    "# print(results_gpc.mean())\n",
    "\n",
    "# #time0 = time.clock()\n",
    "# time1 = (time.clock() - time0)\n",
    "# print (\"%5.1f secs\" % (time1))\n",
    "\n",
    "# accuracy_score(y_valid, gpc_pred)"
   ]
  },
  {
   "cell_type": "code",
   "execution_count": null,
   "id": "general-alfred",
   "metadata": {},
   "outputs": [],
   "source": [
    "## Perceptron \n",
    "#time0 = time.clock()\n",
    "#model_perc = Perceptron(\n",
    "#    penalty = 'elasticnet', l1_ratio = 0.99,random_state = my_rands)\n",
    "#model_perc.fit(X_train, y_train.values.ravel())\n",
    "#y_pred_perc = model_perc.predict(X_valid)\n",
    "#print(confusion_matrix(y_valid, y_pred_perc))\n",
    "#print(classification_report(y_valid, y_pred_perc))\n",
    "#kfold = model_selection.RepeatedStratifiedKFold(n_splits=10, n_repeats=3, random_state=my_rands)\n",
    "#results_perc = model_selection.cross_val_score(model_perc, X_train, y_train.values.ravel(), cv = kfold)\n",
    "#print(results_perc.mean())\n",
    "#time1 = (time.clock() - time0)\n",
    "#print (\"%5.1f secs\" % (time1))\n",
    "#accuracy_score(y_valid, y_pred_perc)"
   ]
  },
  {
   "cell_type": "code",
   "execution_count": null,
   "id": "liable-lebanon",
   "metadata": {},
   "outputs": [],
   "source": [
    "# # Passive Aggressive Classifier \n",
    "# time0 = time.clock()\n",
    "# model_pac = PassiveAggressiveClassifier(C=1.0, fit_intercept=True, \n",
    "#                                          max_iter=1000, tol=0.001, \n",
    "#                                          early_stopping=False, validation_fraction=0.1, \n",
    "#                                          n_iter_no_change=5, shuffle=True, verbose=0, \n",
    "#                                          loss='hinge', n_jobs=None, random_state=my_rands, \n",
    "#                                          warm_start=False, class_weight=None, \n",
    "#                                          average=False)\n",
    "# model_pac.fit(X_train, y_train.values.ravel())\n",
    "# y_pred_pac = model_pac.predict(X_valid)\n",
    "# print(confusion_matrix(y_valid, y_pred_pac))\n",
    "# print(classification_report(y_valid, y_pred_pac))\n",
    "# kfold = model_selection.RepeatedStratifiedKFold(n_splits=10, n_repeats=3, random_state=my_rands)\n",
    "# results_pac = model_selection.cross_val_score(model_pac, X_train, y_train.values.ravel(), cv = kfold)\n",
    "# print(results_pac.mean())\n",
    "# time1 = (time.clock() - time0)\n",
    "# print (\"%5.1f secs\" % (time1))\n",
    "# accuracy_score(y_valid, y_pred_pac)"
   ]
  },
  {
   "cell_type": "code",
   "execution_count": 53,
   "id": "dimensional-format",
   "metadata": {},
   "outputs": [],
   "source": [
    "# # Linear SVC Classifier \n",
    "# time0 = time.clock()\n",
    "# model_lsvc = LinearSVC(penalty='l2', loss='hinge',\n",
    "#                       dual=True, tol=0.0001, C=0.25, \n",
    "#                       multi_class='crammer_singer',  # 'crammer_singer', 'ovr'\n",
    "#                       random_state=my_rands, max_iter=1000)\n",
    "# model_lsvc.fit(X_train, y_train.values.ravel())\n",
    "# lsvc_pred = model_lsvc.predict(X_valid)\n",
    "# print(confusion_matrix(y_valid, lsvc_pred))\n",
    "# print(classification_report(y_valid, lsvc_pred))\n",
    "# kfold = model_selection.RepeatedStratifiedKFold(n_splits=10, n_repeats=3, random_state=my_rands)\n",
    "# results_lsvc = model_selection.cross_val_score(model_lsvc, X_train, y_train.values.ravel(), cv = kfold)\n",
    "# print(results_lsvc.mean())\n",
    "# time1 = (time.clock() - time0)\n",
    "# print (\"%5.1f secs\" % (time1))\n",
    "# accuracy_score(y_valid, lsvc_pred)"
   ]
  },
  {
   "cell_type": "code",
   "execution_count": 54,
   "id": "educational-works",
   "metadata": {},
   "outputs": [],
   "source": [
    "# # Multi-layer Perceptron classifier \n",
    "# time0 = time.clock()\n",
    "# model_mlp = MLPClassifier(hidden_layer_sizes=1000, \n",
    "#                            activation= 'relu', #'relu',\n",
    "#                            solver='adam', alpha=0.0001, \n",
    "#                            batch_size='auto', learning_rate='constant', \n",
    "#                            max_iter=300, random_state=my_rands, \n",
    "#                            validation_fraction=0.1, \n",
    "#                            beta_1=0.9, beta_2=0.999)\n",
    "# model_mlp.fit(X_train, y_train.values.ravel())\n",
    "# mlp_pred = model_mlp.predict(X_valid)\n",
    "# print(confusion_matrix(y_valid, mlp_pred))\n",
    "# print(classification_report(y_valid, mlp_pred))\n",
    "# kfold = model_selection.RepeatedStratifiedKFold(n_splits=10, n_repeats=3, random_state=my_rands)\n",
    "# results_mlp = model_selection.cross_val_score(model_mlp, X_train, y_train.values.ravel(), cv = kfold)\n",
    "# print(results_mlp.mean())\n",
    "# time1 = (time.clock() - time0)\n",
    "# print (\"%5.1f secs\" % (time1))\n",
    "# accuracy_score(y_valid, mlp_pred)"
   ]
  },
  {
   "cell_type": "code",
   "execution_count": 16,
   "id": "afraid-palmer",
   "metadata": {},
   "outputs": [
    {
     "name": "stdout",
     "output_type": "stream",
     "text": [
      "0.857037037037037\n",
      " 61.5 secs\n"
     ]
    },
    {
     "data": {
      "text/plain": [
       "0.7619047619047619"
      ]
     },
     "execution_count": 16,
     "metadata": {},
     "output_type": "execute_result"
    }
   ],
   "source": [
    "# Bagged Decision Trees for Classification\n",
    "time0 = time.clock()\n",
    "kfold = model_selection.RepeatedStratifiedKFold(n_splits=10, n_repeats=3, random_state=my_rands)\n",
    "model_1 = BaggingClassifier(base_estimator=DecisionTreeClassifier(max_depth = 3, \n",
    "                                                                  max_features = None,\n",
    "                                                                  criterion = \"entropy\",\n",
    "                                                                  random_state=my_rands), n_estimators=100,\n",
    "                                                                  oob_score=True, bootstrap=True,\n",
    "                                                                  random_state=my_rands)\n",
    "results_1 = model_selection.cross_val_score(model_1, X_train, y_train.values.ravel(), cv=kfold)\n",
    "print(results_1.mean())\n",
    "model_1.fit(X_train, y_train.values.ravel())\n",
    "pred_bag_ds = model_1.predict(X_valid)\n",
    "time1 = (time.clock() - time0)\n",
    "print (\"%5.1f secs\" % (time1))\n",
    "accuracy_score(y_valid, pred_bag_ds)"
   ]
  },
  {
   "cell_type": "code",
   "execution_count": 17,
   "id": "visible-vinyl",
   "metadata": {},
   "outputs": [
    {
     "name": "stdout",
     "output_type": "stream",
     "text": [
      "0.8474074074074074\n",
      "215.6 secs\n"
     ]
    },
    {
     "data": {
      "text/plain": [
       "0.7380952380952381"
      ]
     },
     "execution_count": 17,
     "metadata": {},
     "output_type": "execute_result"
    }
   ],
   "source": [
    "# Random Forest\n",
    "time0 = time.clock()\n",
    "kfold = model_selection.RepeatedStratifiedKFold(n_splits=10, n_repeats=3, random_state=my_rands)\n",
    "model_rf = RandomForestClassifier(n_estimators=700,\n",
    "                                  warm_start= True,\n",
    "                                  random_state=my_rands,\n",
    "                                  max_features = None)\n",
    "results_rf = model_selection.cross_val_score(model_rf, X_train, y_train.values.ravel(), cv=kfold)\n",
    "print(results_rf.mean())\n",
    "model_rf.fit(X_train, y_train.values.ravel())\n",
    "pred_bag_rf = model_rf.predict(X_valid)\n",
    "\n",
    "time1 = (time.clock() - time0)\n",
    "print (\"%5.1f secs\" % (time1))\n",
    "accuracy_score(y_valid, pred_bag_rf)"
   ]
  },
  {
   "cell_type": "code",
   "execution_count": 18,
   "id": "controversial-cycling",
   "metadata": {},
   "outputs": [
    {
     "name": "stdout",
     "output_type": "stream",
     "text": [
      "0.9077777777777778\n",
      "341.2 secs\n"
     ]
    },
    {
     "data": {
      "text/plain": [
       "0.8809523809523809"
      ]
     },
     "execution_count": 18,
     "metadata": {},
     "output_type": "execute_result"
    }
   ],
   "source": [
    "# Bagged with Regularized Logistic Regression\n",
    "time0 = time.clock()\n",
    "\n",
    "kfold = model_selection.RepeatedStratifiedKFold(n_splits=10, n_repeats=3, random_state=my_rands)\n",
    "model_bag_reglogreg_hard = BaggingClassifier(LogisticRegression(multi_class = 'multinomial', \n",
    "                                                                   penalty = 'l1',\n",
    "                                                                   solver = 'saga',\n",
    "                                                                   C = 0.215,\n",
    "                                                                   random_state = my_rands),\n",
    "                                            n_estimators=50, oob_score=True, bootstrap=True,\n",
    "                                            random_state=my_rands)\n",
    "results_bag_reglogreg_hard = model_selection.cross_val_score(model_bag_reglogreg_hard, \n",
    "                                                             X_train, y_train.values.ravel(), cv=kfold)\n",
    "print(results_bag_reglogreg_hard.mean())\n",
    "model_bag_reglogreg_hard.fit(X_train, y_train.values.ravel())\n",
    "pred_bag_reglogreg_hard = model_bag_reglogreg_hard.predict(X_valid)\n",
    "time1 = (time.clock() - time0)\n",
    "print (\"%5.1f secs\" % (time1))\n",
    "accuracy_score(y_valid, pred_bag_reglogreg_hard)"
   ]
  },
  {
   "cell_type": "code",
   "execution_count": 19,
   "id": "varied-disease",
   "metadata": {},
   "outputs": [
    {
     "name": "stdout",
     "output_type": "stream",
     "text": [
      "0.8814814814814814\n",
      " 67.4 secs\n"
     ]
    },
    {
     "data": {
      "text/plain": [
       "0.8095238095238095"
      ]
     },
     "execution_count": 19,
     "metadata": {},
     "output_type": "execute_result"
    }
   ],
   "source": [
    "# extraTree\n",
    "time0 = time.clock()\n",
    "kfold = model_selection.RepeatedStratifiedKFold(n_splits=10, n_repeats=3, random_state=my_rands)\n",
    "model_et = ExtraTreesClassifier(n_estimators=500,\n",
    "                                max_features = None,\n",
    "                                random_state = my_rands)\n",
    "results_et = model_selection.cross_val_score(model_et, X_train, y_train.values.ravel(), cv=kfold)\n",
    "print(results_et.mean())\n",
    "model_et.fit(X_train, y_train.values.ravel())\n",
    "pred_bag_et = model_et.predict(X_valid)\n",
    "time1 = (time.clock() - time0)\n",
    "print (\"%5.1f secs\" % (time1))\n",
    "accuracy_score(y_valid, pred_bag_et)"
   ]
  },
  {
   "cell_type": "code",
   "execution_count": 20,
   "id": "trained-independence",
   "metadata": {},
   "outputs": [
    {
     "name": "stdout",
     "output_type": "stream",
     "text": [
      "0.81\n",
      "119.4 secs\n"
     ]
    },
    {
     "data": {
      "text/plain": [
       "0.6428571428571429"
      ]
     },
     "execution_count": 20,
     "metadata": {},
     "output_type": "execute_result"
    }
   ],
   "source": [
    "# Adaptive Boosting(AdaBoost) \n",
    "time0 = time.clock()\n",
    "kfold = model_selection.RepeatedStratifiedKFold(n_splits=10, n_repeats=3, random_state=my_rands)\n",
    "model_ada = AdaBoostClassifier(DecisionTreeClassifier(max_depth = 3, \n",
    "                                                      max_features = None,\n",
    "                                                      criterion = \"entropy\",\n",
    "                                                      random_state=my_rands),\n",
    "                                                      n_estimators=500,\n",
    "                                                      learning_rate = 1,\n",
    "                                                      algorithm=\"SAMME.R\",\n",
    "                                                      random_state=my_rands)\n",
    "results_ada = model_selection.cross_val_score(model_ada, X_train, y_train.values.ravel(), cv=kfold)\n",
    "print(results_ada.mean())\n",
    "model_ada.fit(X_train, y_train.values.ravel())\n",
    "pred_ada = model_ada.predict(X_valid)\n",
    "time1 = (time.clock() - time0)\n",
    "print (\"%5.1f secs\" % (time1))\n",
    "accuracy_score(y_valid, pred_ada)"
   ]
  },
  {
   "cell_type": "code",
   "execution_count": 21,
   "id": "compound-bermuda",
   "metadata": {},
   "outputs": [
    {
     "name": "stdout",
     "output_type": "stream",
     "text": [
      "0.784814814814815\n",
      " 17.4 secs\n"
     ]
    },
    {
     "data": {
      "text/plain": [
       "0.7857142857142857"
      ]
     },
     "execution_count": 21,
     "metadata": {},
     "output_type": "execute_result"
    }
   ],
   "source": [
    "time0 = time.clock()\n",
    "kfold = model_selection.RepeatedStratifiedKFold(n_splits=10, n_repeats=3, random_state=my_rands)\n",
    "model_ada_hard = AdaBoostClassifier(DecisionTreeClassifier(max_depth = 3, \n",
    "                                                           max_features = None,\n",
    "                                                           criterion = \"entropy\",\n",
    "                                                           random_state=my_rands),\n",
    "                                                           n_estimators=500,\n",
    "                                                           learning_rate = 1,\n",
    "                                                           algorithm=\"SAMME\",\n",
    "                                                           random_state=my_rands)\n",
    "results_ada_hard = model_selection.cross_val_score(model_ada_hard, X_train, y_train.values.ravel(), cv=kfold)\n",
    "print(results_ada_hard.mean())\n",
    "model_ada_hard.fit(X_train, y_train.values.ravel())\n",
    "pred_ada_hard = model_ada_hard.predict(X_valid)\n",
    "time1 = (time.clock() - time0)\n",
    "print (\"%5.1f secs\" % (time1))\n",
    "accuracy_score(y_valid, pred_ada_hard)"
   ]
  },
  {
   "cell_type": "code",
   "execution_count": 22,
   "id": "outstanding-trust",
   "metadata": {},
   "outputs": [
    {
     "name": "stdout",
     "output_type": "stream",
     "text": [
      "0.6570370370370372\n",
      " 16.5 secs\n"
     ]
    },
    {
     "data": {
      "text/plain": [
       "0.6190476190476191"
      ]
     },
     "execution_count": 22,
     "metadata": {},
     "output_type": "execute_result"
    }
   ],
   "source": [
    "# AdaBoost with SVM as Base Learner\n",
    "time0 = time.clock()\n",
    "kfold = model_selection.RepeatedStratifiedKFold(n_splits=10, n_repeats=3, random_state=my_rands)\n",
    "model_ada_svm = AdaBoostClassifier(SVC(kernel='linear',\n",
    "                                       probability=True),\n",
    "                                       n_estimators=100,\n",
    "                                       learning_rate = 0.1,\n",
    "                                       algorithm=\"SAMME.R\",\n",
    "                                       random_state=my_rands)\n",
    "results_ada_svm = model_selection.cross_val_score(model_ada_svm, \n",
    "                                                X_train, y_train.values.ravel(), \n",
    "                                                cv=kfold)\n",
    "print(results_ada_svm.mean())\n",
    "model_ada_svm.fit(X_train, y_train.values.ravel())\n",
    "pred_ada_svm = model_ada_svm.predict(X_valid)\n",
    "time1 = (time.clock() - time0)\n",
    "print(\"%5.1f secs\" % (time1))\n",
    "accuracy_score(y_valid, pred_ada_svm)"
   ]
  },
  {
   "cell_type": "code",
   "execution_count": 23,
   "id": "protective-demand",
   "metadata": {},
   "outputs": [
    {
     "name": "stdout",
     "output_type": "stream",
     "text": [
      "0.8674074074074074\n",
      "166.7 secs\n"
     ]
    },
    {
     "data": {
      "text/plain": [
       "0.8095238095238095"
      ]
     },
     "execution_count": 23,
     "metadata": {},
     "output_type": "execute_result"
    }
   ],
   "source": [
    "# Stochastic Gradient Boosting \n",
    "time0 = time.clock()\n",
    "kfold = model_selection.RepeatedStratifiedKFold(n_splits=10, n_repeats=3, random_state=my_rands)\n",
    "model_sgb = GradientBoostingClassifier(loss='deviance', \n",
    "                                       learning_rate=0.1, \n",
    "                                       n_estimators=150, subsample=1.0, \n",
    "                                       min_samples_leaf=10, \n",
    "                                       max_depth=3, \n",
    "                                       random_state=my_rands\n",
    "                                      )\n",
    "results_sgb = model_selection.cross_val_score(model_sgb, X_train, y_train.values.ravel(), cv=kfold)\n",
    "print(results_sgb.mean())\n",
    "model_sgb.fit(X_train, y_train.values.ravel())\n",
    "pred_sgb = model_sgb.predict(X_valid)\n",
    "time1 = (time.clock() - time0)\n",
    "print(\"%5.1f secs\" % (time1))\n",
    "accuracy_score(y_valid, pred_sgb)"
   ]
  },
  {
   "cell_type": "code",
   "execution_count": 24,
   "id": "numerical-fitness",
   "metadata": {},
   "outputs": [
    {
     "name": "stdout",
     "output_type": "stream",
     "text": [
      "[[ 1  5  0]\n",
      " [ 0 21  0]\n",
      " [ 0  2 13]]\n",
      "0.8748148148148147\n",
      " 17.9 secs\n",
      "0.8333333333333334\n"
     ]
    }
   ],
   "source": [
    "# xgBoost\n",
    "time0 = time.clock()\n",
    "model_xgb = xgboost.XGBClassifier(objective= 'multi:softprob',\n",
    "                                  n_estimators = 100,\n",
    "                                  max_depth = 1,\n",
    "                                  learning_rate = 0.4,\n",
    "                                  reg_alpha = 0,\n",
    "                                  booster = 'dart', # dart' gbtree\n",
    "                                  eval_metric='merror',\n",
    "                                  subsample = 1,\n",
    "                                  colsample_bytree = 0.8,\n",
    "                                  tree_method = 'exact',\n",
    "                                  random_state=my_rands)\n",
    "model_xgb.fit(X_train, y_train.values.ravel())\n",
    "pred_xgb = model_xgb.predict(X_valid)\n",
    "print(confusion_matrix(y_valid, pred_xgb))\n",
    "kfold = model_selection.RepeatedStratifiedKFold(n_splits=10, n_repeats=3, random_state=my_rands)\n",
    "results_xgb = model_selection.cross_val_score(model_xgb,\n",
    "                                              X_train, y_train.values.ravel(), \n",
    "                                              cv=kfold)\n",
    "print(results_xgb.mean())\n",
    "time1 = (time.clock() - time0)\n",
    "print (\"%5.1f secs\" % (time1))\n",
    "print(accuracy_score(y_valid, pred_xgb))"
   ]
  },
  {
   "cell_type": "code",
   "execution_count": 56,
   "id": "distant-registrar",
   "metadata": {},
   "outputs": [
    {
     "data": {
      "image/png": "[encoded data removed]",
      "text/plain": [
       "<Figure size 216x216 with 1 Axes>"
      ]
     },
     "metadata": {
      "needs_background": "light"
     },
     "output_type": "display_data"
    }
   ],
   "source": [
    "cm_xgb = confusion_matrix(y_valid, pred_xgb)\n",
    "fig, ax = plot.subplots(figsize=(3,3))\n",
    "ax.imshow(cm_xgb)\n",
    "ax.grid(False)\n",
    "ax.set_xlabel('Predicted outputs', color='black')\n",
    "ax.set_ylabel('Actual outputs', color='black')\n",
    "ax.xaxis.set(ticks=range(3))\n",
    "ax.yaxis.set(ticks=range(3))\n",
    "ax.set_ylim(2.5, -0.5)\n",
    "for i in range(3):\n",
    "    for j in range(3):\n",
    "        ax.text(j, i, cm_xgb[i, j], ha='center', va='center', color='white')\n",
    "plot.show()"
   ]
  },
  {
   "cell_type": "code",
   "execution_count": 25,
   "id": "pharmaceutical-pencil",
   "metadata": {},
   "outputs": [
    {
     "name": "stdout",
     "output_type": "stream",
     "text": [
      "[[ 2  4  0]\n",
      " [ 0 21  0]\n",
      " [ 0  2 13]]\n",
      "0.8777777777777777\n",
      " 14.2 secs\n",
      "0.8571428571428571\n"
     ]
    }
   ],
   "source": [
    "# lightgbm\n",
    "time0 = time.clock()\n",
    "model_lgb = lgb.LGBMClassifier(objective = 'multiclass', \n",
    "                           boosting_type='gbdt', \n",
    "                           learning_rate = 0.05,\n",
    "                           subsample=1,\n",
    "                           reg_alpha = 0.,\n",
    "                           reg_lambda = 0.,\n",
    "                           max_depth = 1,\n",
    "                           metric = 'multi_logloss',\n",
    "                           n_estimators = 400,\n",
    "                           random_state=my_rands)\n",
    "model_lgb.fit(X_train, y_train.values.ravel())\n",
    "pred_lgb = model_lgb.predict(X_valid)\n",
    "print(confusion_matrix(y_valid, pred_lgb))\n",
    "kfold = model_selection.RepeatedStratifiedKFold(n_splits=10, n_repeats=3, random_state=my_rands)\n",
    "results_lgb = model_selection.cross_val_score(model_lgb,\n",
    "                                              X_train, y_train.values.ravel(), \n",
    "                                              cv=kfold)\n",
    "print(results_lgb.mean())\n",
    "time1 = (time.clock() - time0)\n",
    "print (\"%5.1f secs\" % (time1))\n",
    "print(accuracy_score(y_valid, pred_lgb))"
   ]
  },
  {
   "cell_type": "code",
   "execution_count": 26,
   "id": "primary-charlotte",
   "metadata": {},
   "outputs": [
    {
     "name": "stdout",
     "output_type": "stream",
     "text": [
      "0.9318518518518517\n",
      " 81.5 secs\n"
     ]
    },
    {
     "data": {
      "text/plain": [
       "0.9285714285714286"
      ]
     },
     "execution_count": 26,
     "metadata": {},
     "output_type": "execute_result"
    }
   ],
   "source": [
    "# Voting Ensemble\n",
    "time0 = time.clock() \n",
    "kfold = model_selection.RepeatedStratifiedKFold(n_splits=10, n_repeats=3, random_state=my_rands)\n",
    "estimators = []\n",
    "#estimators.append(('L1LogReg', reglogreg))\n",
    "estimators.append(('ElasticNetLogReg', reglogreg2))\n",
    "estimators.append(('errorCorrect', model_ec))\n",
    "#estimators.append(('xgboost', model_xgb)) \n",
    "estimators.append(('lgbm', model_lgb)) \n",
    "\n",
    "\n",
    "voting_ensemble = VotingClassifier(estimators,\n",
    "                                   voting = 'hard')\n",
    "results_vc = model_selection.cross_val_score(voting_ensemble, X_train, y_train.values.ravel(), cv=kfold)\n",
    "print(results_vc.mean())\n",
    "voting_ensemble.fit(X_train, y_train.values.ravel())\n",
    "pred_vote_ensemble = voting_ensemble.predict(X_valid)\n",
    "time1 = (time.clock() - time0)\n",
    "print (\"%5.1f secs\" % (time1))\n",
    "accuracy_score(y_valid, pred_vote_ensemble)"
   ]
  },
  {
   "cell_type": "code",
   "execution_count": 57,
   "id": "fitted-wholesale",
   "metadata": {},
   "outputs": [
    {
     "data": {
      "image/png": "[encoded data removed]",
      "text/plain": [
       "<Figure size 216x216 with 1 Axes>"
      ]
     },
     "metadata": {
      "needs_background": "light"
     },
     "output_type": "display_data"
    }
   ],
   "source": [
    "cm_vote = confusion_matrix(y_valid, pred_vote_ensemble)\n",
    "fig, ax = plot.subplots(figsize=(3,3))\n",
    "ax.imshow(cm_vote)\n",
    "ax.grid(False)\n",
    "ax.set_xlabel('Predicted outputs', color='black')\n",
    "ax.set_ylabel('Actual outputs', color='black')\n",
    "ax.xaxis.set(ticks=range(3))\n",
    "ax.yaxis.set(ticks=range(3))\n",
    "ax.set_ylim(2.5, -0.5)\n",
    "for i in range(3):\n",
    "    for j in range(3):\n",
    "        ax.text(j, i, cm_vote[i, j], ha='center', va='center', color='white')\n",
    "plot.show()"
   ]
  },
  {
   "cell_type": "code",
   "execution_count": 27,
   "id": "psychological-processing",
   "metadata": {},
   "outputs": [
    {
     "name": "stdout",
     "output_type": "stream",
     "text": [
      "[[ 4  2  0]\n",
      " [ 0 21  0]\n",
      " [ 1  0 14]]\n",
      "0.9592592592592593\n",
      "528.6 secs\n",
      "0.9285714285714286\n"
     ]
    }
   ],
   "source": [
    "# Stacking: super-learner\n",
    "def get_stacking():\n",
    "    level0 = list()   \n",
    "    \n",
    "    level0.append(('L1LogReg', reglogreg)) \n",
    "    level0.append(('ElasticNetLogReg', reglogreg2))\n",
    "    #level0.append(('errorCorrect', model_ec))\n",
    "    level0.append(('lgbm', model_lgb)) \n",
    "    level0.append(('xgboost', model_xgb)) \n",
    "    \n",
    "    level1 = RandomForestClassifier()\n",
    "    #level1 = KNeighborsClassifier()\n",
    "    #level1 = LogisticRegression() \n",
    "        \n",
    "    model = StackingClassifier(estimators=level0, final_estimator=level1, cv=10)\n",
    "    return model\n",
    "\n",
    "time0 = time.clock()\n",
    "stackedmodel = get_stacking()\n",
    "stackedmodel.fit(X_train, y_train.values.ravel())\n",
    "pred_stack_ensemble = stackedmodel.predict(X_valid)\n",
    "print(confusion_matrix(y_valid, pred_stack_ensemble))\n",
    "kfold = model_selection.RepeatedStratifiedKFold(n_splits=10, n_repeats=3, random_state=my_rands)\n",
    "results_stack = model_selection.cross_val_score(stackedmodel,\n",
    "                                              X_train, y_train.values.ravel(), \n",
    "                                              cv=kfold)\n",
    "print(results_stack.mean())\n",
    "time1 = (time.clock() - time0)\n",
    "print (\"%5.1f secs\" % (time1))\n",
    "print(accuracy_score(y_valid, pred_stack_ensemble))"
   ]
  },
  {
   "cell_type": "code",
   "execution_count": 58,
   "id": "editorial-column",
   "metadata": {},
   "outputs": [
    {
     "data": {
      "image/png": "[encoded data removed]",
      "text/plain": [
       "<Figure size 216x216 with 1 Axes>"
      ]
     },
     "metadata": {
      "needs_background": "light"
     },
     "output_type": "display_data"
    }
   ],
   "source": [
    "cm_stack = confusion_matrix(y_valid, pred_stack_ensemble)\n",
    "fig, ax = plot.subplots(figsize=(3,3))\n",
    "ax.imshow(cm_stack)\n",
    "ax.grid(False)\n",
    "ax.set_xlabel('Predicted outputs', color='black')\n",
    "ax.set_ylabel('Actual outputs', color='black')\n",
    "ax.xaxis.set(ticks=range(3))\n",
    "ax.yaxis.set(ticks=range(3))\n",
    "ax.set_ylim(2.5, -0.5)\n",
    "for i in range(3):\n",
    "    for j in range(3):\n",
    "        ax.text(j, i, cm_stack[i, j], ha='center', va='center', color='white')\n",
    "plot.show()"
   ]
  },
  {
   "attachments": {},
   "cell_type": "markdown",
   "id": "introductory-multimedia",
   "metadata": {},
   "source": [
    "We try different ways of formulating the super learner and list the results in the following table. We shall notice that adding levels in the stack can either be data expensive (we need to spare the out-of-fold data to train each level, and hence more data are needed) or time expensive (if k-folds like technique is used and, then, lot of models need to be fitted). By considering both computational time and prediction accuracy, we end up using Random Forest Classifier as the \"blender\" and xgboost, lightgbm, L1-penalized logistic regression and ElasticNet Logistic Regression as base learners.\n",
    "\n",
    "|                  Level 0   (Base Classifiers)                 |         Level 1        | Cross   Validation Score | Accuracy on   Validation Set |  Time (seconds) |\n",
    "|:-------------------------------------------------------------:|:----------------------:|:------------------------:|:----------------------------:|:------:|\n",
    "|                       lightgbm, L1LogReg                      |   LogisticRegression   |        0.904814815       |          0.904761905         |  213.9 |\n",
    "|                                                               | RandomForestClassifier |        0.921851852       |          0.952380952         |  227.1 |\n",
    "|                  xgboost, lightgbm, L1LogReg                  |   LogisticRegression   |        0.898148148       |          0.880952381         |  409.7 |\n",
    "|                                                               | RandomForestClassifier |        0.939259259       |          0.952380952         |  409.3 |\n",
    "|                                                               |  KNeighborsClassifier  |        0.911851852       |          0.952380952         |  403.7 |\n",
    "|              lightgbm, L1LogReg, ElasticNetLogReg             |   LogisticRegression   |        0.921851852       |          0.928571429         |  281.4 |\n",
    "|                                                               | RandomForestClassifier |        0.962592593       |          0.928571429         |  293.2 |\n",
    "|                                                               |  KNeighborsClassifier  |        0.928518519       |          0.952380952         |  289.2 |\n",
    "|         ***xgboost, lightgbm, L1LogReg, ElasticNetLogReg***         |   LogisticRegression   |        0.914814815       |          0.928571429         |  476.8 |\n",
    "|                                                               | ***RandomForestClassifier*** |        ***0.956296296***      |          ***0.952380952***        |   474  |\n",
    "|                                                               |  KNeighborsClassifier  |        0.921851852       |          0.952380952         |  523.5 |\n",
    "| xgboost, lightgbm, L1LogReg,   ElasticNetLogReg, errorCorrect |   LogisticRegression   |        0.921851852       |          0.928571429         | 1183.5 |\n",
    "|                                                               | RandomForestClassifier |        0.952222222       |          0.928571429         | 1251.1 |\n",
    "|                                                               |  KNeighborsClassifier  |        0.915185185       |          0.880952381         | 1087.3 |"
   ]
  },
  {
   "cell_type": "markdown",
   "id": "everyday-tension",
   "metadata": {},
   "source": [
    "## 4. Evaluation and Comparison over the Models \n",
    "\n",
    "We can now rank our evaluation of all the models to choose the best candidates for our problem. We list some of the candidates in the following table, we could see that overall the decision tree based methods have better prediction accuracy. But the regularized logistic regression is working the best among all individual models. Compare to all other black-box models, it is interpretable and takes less computational time. The regularization guarantees the sparsity of the final model and results in a clean form. It is indeed an ideal final candidate. \n",
    "\n",
    "If we care more about the final prediction accuracy, we might want to keep using the staking model, where we borrows different strength from all the selected learners.\n",
    "\n",
    "\n",
    "| NO. |                            Learners                            | Cross   Validation Score | Accuracy on   Validation Set |     Tag    | Time(secs) |\n",
    "|:---:|:--------------------------------------------------------------:|:------------------------:|:----------------------------:|:----------:|:----------:|\n",
    "|  1  |                LogisticRegression   Multinomial                |        0.697777778       |          0.666666667         | Individual |     68     |\n",
    "|  2  |                    LogisticRegression   OVR                    |        0.687407407       |          0.619047619         | Individual |    135.8   |\n",
    "|  3  |                             Ridge                              |        0.704444444       |          0.619047619         | Individual |     0.8    |\n",
    "|  4  |               L1   Regularized LogisticRegression              |  ***0.952222222222222*** |    ***0.928571428571428***   | Individual |     7.5    |\n",
    "|  5  |           ElasticNet   Regularized LogisticRegression          |  ***0.938888888888888*** |    ***0.928571428571428***   | Individual |     7.8    |\n",
    "|  6  | (Error-Correcting_reglogreg)   Output-Code multiclass strategy |  ***0.931851851851851*** |    ***0.952380952380952***   |   Bagging  |    52.8    |\n",
    "|  7  |                          Naive   Bayes                         |        0.615185185       |          0.571428571         | Individual |     0.7    |\n",
    "|  8  |                               KNN                              |        0.609259259       |          0.571428571         | Individual |     1.1    |\n",
    "|  9  |                          Bagging Trees                         |        0.857037037       |          0.761904762         |   Bagging  |     57     |\n",
    "|  10 |                          Random Forest                         |        0.847407407       |          0.738095238         |   Bagging  |    278.3   |\n",
    "|  11 |                               SGB                              |        0.867407407       |          0.80952381          |  Boosting  |    151.8   |\n",
    "|  12 |                    Regularized   Perceptron                    |        0.711111111       |          0.666666667         | Individual |     0.4    |\n",
    "|  13 |                    Multi-layer   Perceptron                    |           0.62           |          0.595238095         | Individual |    43.4    |\n",
    "|  14 |                 Passive   Aggressive Classifier                |        0.712222222       |          0.642857143         | Individual |     0.3    |\n",
    "|  15 |                    SVC   with Linear Kernel                    |        0.743333333       |          0.642857143         | Individual |     0.4    |\n",
    "|  16 |                        AdaBoost   of SVM                       |        0.630740741       |          0.619047619         |  Boosting  |    45.2    |\n",
    "|  17 |                 AdaBoost   Trees Soft Endemble                 |           0.81           |          0.642857143         |  Boosting  |    170.5   |\n",
    "|  18 |                 AdaBoost   Trees Hard Endemble                 |        0.784814815       |          0.785714286         |  Boosting  |    17.7    |\n",
    "|  19 |                             xgboost                            |  ***0.874814814814814*** |    ***0.833333333333333***   |  Boosting  |    15.5    |\n",
    "|  20 |                            lightgbm                            |  ***0.877777777777777*** |    ***0.857142857142857***   |  Boosting  |     3.7    |\n",
    "|  21 |                Bagging   of Regularized Logistic               |        0.907777778       |          0.880952381         |   Bagging  |    121.2   |\n",
    "|  22 |                           ExtraTrees                           |        0.884444444       |          0.80952381          |   Bagging  |    72.9    |\n",
    "|  23 |                        Voting   Ensemble                       |  ***0.931851851851851*** |    ***0.928571428571428***   |   Bagging  |    107.1   |\n",
    "|  24 |                       Stacking   Ensemble                      |  ***0.962962962962963*** |   ***0.9523809523809523***   |  Stacking  |    523.5   |\n",
    "\n",
    "To have a closer look over the models we have tried, we compare some similar models by checking their accuracy score. The following figures show the boxplot for the repeated cross-validated accuracy scores from related models. We should always choose the ones that have higher accuracy and stable predicted behaviors."
   ]
  },
  {
   "cell_type": "code",
   "execution_count": 28,
   "id": "sensitive-juice",
   "metadata": {},
   "outputs": [
    {
     "data": {
      "image/png": "[encoded data removed]",
      "text/plain": [
       "<Figure size 432x288 with 1 Axes>"
      ]
     },
     "metadata": {
      "needs_background": "light"
     },
     "output_type": "display_data"
    }
   ],
   "source": [
    "# evaluate the model combo 1: logistic regression related.\n",
    "result_comb1 =[pd.DataFrame(results_cv_ovr),\n",
    "               pd.DataFrame(results_cv),\n",
    "               pd.DataFrame(results_reglogreg),\n",
    "               pd.DataFrame(results_reglogreg2),               \n",
    "               pd.DataFrame(results_bag_reglogreg_hard)]\n",
    "result_comb1 = pd.concat(result_comb1, axis=1)\n",
    "names = ['Logistic-OVR', ' Logistic-Multi',\n",
    "        'L1-Logistic', 'ElasticNet-Logistic',\n",
    "         'Bagging of Reg-Logistic']\n",
    "result_comb1.columns = names\n",
    "plot.boxplot(result_comb1, labels=names, showmeans=True)\n",
    "plot.xticks(rotation = 45)\n",
    "plot.show()"
   ]
  },
  {
   "cell_type": "markdown",
   "id": "internal-punishment",
   "metadata": {},
   "source": [
    "We should keep the $L_1$-regularized logistic regression instead of others."
   ]
  },
  {
   "cell_type": "code",
   "execution_count": 29,
   "id": "revolutionary-accreditation",
   "metadata": {},
   "outputs": [
    {
     "data": {
      "image/png": "[encoded data removed]",
      "text/plain": [
       "<Figure size 432x288 with 1 Axes>"
      ]
     },
     "metadata": {
      "needs_background": "light"
     },
     "output_type": "display_data"
    }
   ],
   "source": [
    "# evaluate the model combo 2: Decision Tree related, with boosting/bagging techs.\n",
    "result_comb2 =[pd.DataFrame(results_ada_hard),\n",
    "               pd.DataFrame(results_sgb),\n",
    "               pd.DataFrame(results_xgb),\n",
    "               pd.DataFrame(results_lgb),\n",
    "               pd.DataFrame(results_1),\n",
    "               pd.DataFrame(results_rf),\n",
    "               pd.DataFrame(results_et)\n",
    "              ]\n",
    "result_comb2 = pd.concat(result_comb2, axis=1)\n",
    "names = ['AdaHard', 'SGB', 'XGBoost', 'LightGBM', # these are boosting \n",
    "         'BaagedTrees',  'RandomForest','ExtraTrees' # these are bagging\n",
    "        ]\n",
    "result_comb2.columns = names\n",
    "plot.boxplot(result_comb2, labels=names, showmeans=True)\n",
    "plot.xticks(rotation = 45)\n",
    "plot.show()"
   ]
  },
  {
   "cell_type": "markdown",
   "id": "complete-function",
   "metadata": {},
   "source": [
    "We could see that boosting ensemble trees have better results in predictig accuracy, and in general bagging with more randomness results in more stable results. "
   ]
  },
  {
   "cell_type": "code",
   "execution_count": 30,
   "id": "legislative-portsmouth",
   "metadata": {
    "scrolled": true
   },
   "outputs": [
    {
     "data": {
      "text/plain": [
       "<Figure size 432x288 with 0 Axes>"
      ]
     },
     "metadata": {},
     "output_type": "display_data"
    },
    {
     "data": {
      "image/png": "[encoded data removed]",
      "text/plain": [
       "<Figure size 1116x756 with 2 Axes>"
      ]
     },
     "metadata": {
      "needs_background": "light"
     },
     "output_type": "display_data"
    }
   ],
   "source": [
    "# evaluate the model combo 3: All together\n",
    "result_comb3 =[ pd.DataFrame(results_perc),#1\n",
    "                pd.DataFrame(results_pac), #2\n",
    "               pd.DataFrame(results_nb),#3\n",
    "               pd.DataFrame(results_kn),#4\n",
    "                pd.DataFrame(results_cv_ovr),#5\n",
    "                pd.DataFrame(results_cv),#6\n",
    "                pd.DataFrame(results_reglogreg),#7\n",
    "               pd.DataFrame(results_reglogreg2),\n",
    "               pd.DataFrame(results_ec),\n",
    "                pd.DataFrame(results_bag_reglogreg_hard),#8\n",
    "               pd.DataFrame(results_ada_hard),#10\n",
    "               pd.DataFrame(results_sgb),#11\n",
    "               pd.DataFrame(results_xgb),#12\n",
    "               pd.DataFrame(results_lgb),#13\n",
    "               pd.DataFrame(results_1),#14\n",
    "               pd.DataFrame(results_rf),#15\n",
    "               pd.DataFrame(results_et),#16\n",
    "                pd.DataFrame(results_stack),#17\n",
    "                pd.DataFrame(results_vc)#18\n",
    "              ]\n",
    "result_comb3 = pd.concat(result_comb3, axis=1)\n",
    "names = ['Regularized-Perceptron',\n",
    "         'Passive-Aggressive-Classifier',\n",
    "         'Naive-Bayes',\n",
    "         'KNN',\n",
    "         'Logistic-OVR', ' Logistic-Multi',\n",
    "         'Regularized-Logistic', 'ElasticNet-Logistic',\n",
    "         'ErrorCorrecting',\n",
    "         'Bagging of Reg-Logistic', \n",
    "         'AdaHard', 'SGB', 'XGBoost', 'LightGBM',  \n",
    "         'BagedTrees',  'RandomForest','ExtraTrees',  \n",
    "         'Stacking', 'Voting']\n",
    "time_rec = [0.4, \n",
    "            0.3, \n",
    "            0.7,\n",
    "            1.1,\n",
    "            135.8, 68,\n",
    "            7.5, 7.8, \n",
    "            52.8,\n",
    "            121.2, \n",
    "            17.7, 151.8, 15.5, 3.7, \n",
    "            57, 278.3, 72.9, \n",
    "            523.5, 107.1]\n",
    "result_comb3.columns = names\n",
    "\n",
    "fig = plot.gcf()\n",
    "fig, ax = plot.subplots()\n",
    "fig.set_size_inches(15.5, 10.5, forward=True)\n",
    "fig.suptitle('Comparison of Candidate Models', fontsize=20, fontweight='bold')\n",
    "rects = ax.bar(range(1, len(time_rec)+1), time_rec, color='gray', \n",
    "               alpha = 0.5, align='center')\n",
    "\n",
    "def autolabel(rects):\n",
    "    \"\"\"\n",
    "    Attach a text label above each bar displaying its height\n",
    "    \"\"\"\n",
    "    for rect in rects:\n",
    "        height = rect.get_height()\n",
    "        ax.text(rect.get_x() + rect.get_width()/3., 1.01*height,\n",
    "                \"%9.1f sec\" % (height),\n",
    "                color = 'green',\n",
    "                ha='center', va='bottom')\n",
    "        \n",
    "autolabel(rects)\n",
    "ax.set_ylabel('Computational Time', size = 15)\n",
    "ax.set_title('BoxPlot of Cross-Validated Accuracy\\nBarPlot of Computational Time', size = 15)\n",
    "plot.xticks(rotation = 45)\n",
    "ax2 = ax.twinx()\n",
    "ax2.boxplot(result_comb3, labels=names, showmeans=True)\n",
    "ax2.set_ylim(0, 1.1)\n",
    "ax2.set_ylabel('Cross-validated Accuracy', size = 15, rotation=270)\n",
    "\n",
    "plot.show()"
   ]
  },
  {
   "cell_type": "markdown",
   "id": "complete-exploration",
   "metadata": {},
   "source": [
    "In this big plot, we overlay the box plots for cross-validated accuracy results from candidate methods, together with the bar plot of running time each model takes. We could conclude that some individual methods could achieve accurate results, and using ensemble techniques could improve both accuracy and stablize the prediction, with a sacrifice in computational time. And the best candidates are $L_1$-regularized logistic regression and stacking."
   ]
  },
  {
   "cell_type": "markdown",
   "id": "advisory-thong",
   "metadata": {},
   "source": [
    "## 5. A Deeper Look at the Data\n",
    "\n",
    "As we have seen there exist multicollinearity, and potential sparsity in the data, we want to figure out the importances of the various features in the data. We could see that feature No.500, No.125, No. 361, and No. 461 have been important in buiding the models."
   ]
  },
  {
   "cell_type": "code",
   "execution_count": 31,
   "id": "hybrid-trace",
   "metadata": {},
   "outputs": [
    {
     "data": {
      "image/png": "[encoded data removed]",
      "text/plain": [
       "<Figure size 432x288 with 1 Axes>"
      ]
     },
     "metadata": {
      "needs_background": "light"
     },
     "output_type": "display_data"
    },
    {
     "data": {
      "image/png": "[encoded data removed]",
      "text/plain": [
       "<Figure size 432x288 with 1 Axes>"
      ]
     },
     "metadata": {
      "needs_background": "light"
     },
     "output_type": "display_data"
    },
    {
     "data": {
      "image/png": "[encoded data removed]",
      "text/plain": [
       "<Figure size 432x288 with 1 Axes>"
      ]
     },
     "metadata": {
      "needs_background": "light"
     },
     "output_type": "display_data"
    },
    {
     "data": {
      "image/png": "[encoded data removed]",
      "text/plain": [
       "<Figure size 432x288 with 1 Axes>"
      ]
     },
     "metadata": {
      "needs_background": "light"
     },
     "output_type": "display_data"
    }
   ],
   "source": [
    "### What features are important ones?\n",
    "\n",
    "xgb_imp = model_xgb.feature_importances_\n",
    "lgb_imp = model_lgb.feature_importances_\n",
    "# perform permutation importance \n",
    "reglogreg_imp = permutation_importance(reglogreg, X_train, y_train, scoring='accuracy')\n",
    "# get importance\n",
    "reglogreg_imp = reglogreg_imp.importances_mean\n",
    "# calculate the relavant importance\n",
    "xgb_imp = xgb_imp / xgb_imp.max()\n",
    "lgb_imp = lgb_imp / lgb_imp.max()\n",
    "reglogreg_imp = reglogreg_imp / reglogreg_imp.max()\n",
    "# into a DataFrame\n",
    "featureImp_df = pd.DataFrame({\n",
    "        'feature_names':X_train.columns,\n",
    "        'xgb_features': xgb_imp,\n",
    "        'lgb_features': lgb_imp,\n",
    "        'reglogreg_features': reglogreg_imp\n",
    "})\n",
    "# Average Feature Importances: add a column to calculate row-wise mean\n",
    "featureImp_df['mean'] = featureImp_df.mean(axis = 1)\n",
    "fig, ax = plot.subplots()\n",
    "ax = pd.Series(featureImp_df['xgb_features'], index=X.columns).nlargest(20).plot(kind='barh')\n",
    "ax.set_ylabel('Features')\n",
    "ax.set_title('Top Features of XGBoost')\n",
    "ax.set_yticks(np.arange(20))\n",
    "ax.set_yticklabels(featureImp_df.nlargest(20, 'xgb_features')['feature_names'].to_numpy())\n",
    "ax.legend(['Top 20'])\n",
    "plot.show()\n",
    "\n",
    "fig, ax = plot.subplots()\n",
    "ax = pd.Series(featureImp_df['lgb_features'], index=X.columns).nlargest(20).plot(kind='barh')\n",
    "ax.set_ylabel('Features')\n",
    "ax.set_title('Top Features of LightGBM')\n",
    "ax.set_yticks(np.arange(20))\n",
    "ax.set_yticklabels(featureImp_df.nlargest(20, 'lgb_features')['feature_names'].to_numpy())\n",
    "ax.legend(['Top 20'])\n",
    "plot.show()\n",
    "fig, ax = plot.subplots()\n",
    "ax = pd.Series(featureImp_df['reglogreg_features'], index=X.columns).nlargest(5).plot(kind='barh')\n",
    "ax.set_ylabel('Features')\n",
    "ax.set_title('Top Features of Regularized Logistic')\n",
    "ax.set_yticks(np.arange(20))\n",
    "ax.set_yticklabels(featureImp_df.nlargest(20, 'reglogreg_features')['feature_names'].to_numpy())\n",
    "ax.legend(['Top 5'])\n",
    "plot.show()\n",
    "\n",
    "fig, ax = plot.subplots()\n",
    "ax = pd.Series(featureImp_df['mean'], index=X.columns).nlargest(20).plot(kind='barh')\n",
    "ax.set_ylabel('Features')\n",
    "ax.set_title('Top Features of Stack')\n",
    "ax.set_yticks(np.arange(20))\n",
    "ax.set_yticklabels(featureImp_df.nlargest(20, 'mean')['feature_names'].to_numpy())\n",
    "ax.legend(['Top 5'])\n",
    "plot.show()\n",
    "\n"
   ]
  },
  {
   "cell_type": "markdown",
   "id": "prescription-study",
   "metadata": {},
   "source": [
    "## 6. Internpretation using $L_1$-Regularized Logistic Regression Model\n",
    "\n",
    "Among all of the candidates, the $L_1$-regularized logistic regression achieves best prediction accurcy on validation data set and only takes 2.4 seconds in computation. When dealing with real world data, we might want to keep the interpretability and simplicity of the methods we applied. Just as ***Occam's razor*** indicates, \"the simplest explanation is usually the best one\". So we keep using the regularized logistic regression for interpretation. \n",
    "\n",
    "First, we need to train the model with all available train data. We set the he \"multi\\_class\" argument to \"multinomial\" and the “solver'' argument to \"saga\". To ensure that cross-validation fold has approximately the same distribution of examples in each class as the whole training dataset, we use a stratified 10-fold cross-validation with 3 repeats. And the reported mean classification accuracy across all folds and repeats of the evaluation procedure with a value of 0.962.\n",
    "\n",
    "In our regularized logistic regression, we implement a regularized logistic regression with $L_1$ penalty. For the inverse of regularization strength parameter, the rather small value of $C = 0.25$ constrains the model heavily. In the case with $L_1$ penalty, this leads to a very sparse solution with very few features left. In our case, there are 3 categories in total, and there is one function fitted for each class\n",
    "respectively, which acts as independent binary regression models:\n",
    "$\n",
    "f(k, i) \n",
    "= \\beta_{0,k} + \\beta_{1,k}x_{i,1} + \\cdots + \\beta_{M,k}x_{i,M}\n",
    "$\n",
    "where $\\beta_{m,k}$ is regression coefficient associated with category $k$ and feature $m$ except for $\\beta_{0,k}$ is the intercept of category $k$, and $x_{i,m}$ is the $i$-the subject's feature $m$. The actual output from sklearn is \n",
    "$log(P(y = k) / 1 - P(y = k))$. So by exponentiating each regressor coefficient, we get odds ratios. So interpretation of the coefficients is, for one unit change in the feature, the log of\n",
    "odds will change by a factor indicated by the output coefficient, given that all other variables\n",
    "are held constant. Take label 0 for example, the odds ratio for feature is 0.998626, which means for every one unit of increase in this feature, we have 0.998626 more nats of evidence that the label should be 0 than other labels.\n"
   ]
  },
  {
   "cell_type": "code",
   "execution_count": 32,
   "id": "clear-decline",
   "metadata": {},
   "outputs": [
    {
     "name": "stdout",
     "output_type": "stream",
     "text": [
      "0.9619047619047618\n",
      "Sparsity with L1 penalty: 98.42%\n",
      "Intercept: \n",
      " [-0.69072191  0.96838523 -0.27766333]\n",
      "Coefficients: \n",
      " [[0. 0. 0. ... 0. 0. 0.]\n",
      " [0. 0. 0. ... 0. 0. 0.]\n",
      " [0. 0. 0. ... 0. 0. 0.]]\n",
      "Category 1 Odds Ratio:\n",
      "[0.9986255417614971, 1.012958969491312, 0.9883930756753966, 1.0346685851369128, 0.974316225618021, 0.7985649323244338, 1.1053875022110993, 0.9614335052528309, 1.4106408401267014, 1.0299867743282822, 0.9412606953769135, 0.7641597651595334, 1.1311508728667352, 1.0745968754697541, 1.0239540665070666, 1.1051738398130968]\n"
     ]
    }
   ],
   "source": [
    "# Final Fit with all train data\n",
    "model = LogisticRegression(multi_class = 'multinomial', \n",
    "                           penalty='l1', \n",
    "                           C=0.25,\n",
    "                           random_state=my_rands, solver='saga'\n",
    "                          )\n",
    "\n",
    "                    \n",
    "                    \n",
    "model.fit(X, y.values.ravel())\n",
    "kfold = model_selection.RepeatedStratifiedKFold(n_splits=10, n_repeats=3, random_state=my_rands)\n",
    "results = model_selection.cross_val_score(model, X, y.values.ravel(), cv = kfold, scoring = 'accuracy')\n",
    "print(results.mean()) \n",
    "sparsity = np.mean(model.coef_ == 0) * 100\n",
    "print(\"Sparsity with L1 penalty: %.2f%%\" % sparsity)\n",
    "\n",
    "# model parameters\n",
    "print('Intercept: \\n', model.intercept_)\n",
    "print('Coefficients: \\n', model.coef_)\n",
    "odds_ratio = pd.DataFrame(np.exp(model.coef_))\n",
    "# print the odds ratio with features that really matters for each category\n",
    "category_1_or = odds_ratio.iloc[0, odds_ratio.columns[odds_ratio.iloc[0,] != 1.0]].tolist()\n",
    "category_2_or = odds_ratio.iloc[1, odds_ratio.columns[odds_ratio.iloc[1,] != 1.0]].tolist()\n",
    "category_3_or = odds_ratio.iloc[2, odds_ratio.columns[odds_ratio.iloc[2,] != 1.0]].tolist()\n",
    "\n",
    "print('Category 1 Odds Ratio:')\n",
    "print(category_1_or)"
   ]
  },
  {
   "cell_type": "markdown",
   "id": "rough-burke",
   "metadata": {},
   "source": [
    "## 7. Predict over Test Data Set\n",
    "\n",
    "As we argued, if we are looking for the best prediction, we will keep using the staking model. But in reality, we might want to compromise between the accuracy and other benefits, like the interpretability of the model, and less computational request. So the final candidates should be either the stacking model, or the $L_1$-regularized logistic regression, depending on our priority.\n",
    "\n",
    "It is worthwhile to mention that I found the Maximum Uncertainty LDA and Factor-Based LDA are working well and both have achieved very high accuracy when making predictions. Unfortunately, neither of the methods are implemented in *sklearn* to my best knowledge. So I have to train these models in *R* and have found even if we don't incorporate their results into stacking or voting ensembles, they still produce good predictions. We could of course incorporate the results and ensemble them into our current stacking ensemble or voting emsemble, but we might want to keep the simple form and save training time."
   ]
  },
  {
   "cell_type": "code",
   "execution_count": 33,
   "id": "improving-herald",
   "metadata": {},
   "outputs": [
    {
     "name": "stdout",
     "output_type": "stream",
     "text": [
      "0.9404761904761905\n"
     ]
    }
   ],
   "source": [
    "# if we choose voting ensemble as our final model: use all train data\n",
    "voting_ensemble.fit(X, y.values.ravel())\n",
    "kfold = model_selection.RepeatedStratifiedKFold(n_splits=10, n_repeats=3, random_state=my_rands)\n",
    "results_vote = model_selection.cross_val_score(voting_ensemble,\n",
    "                                              X, y.values.ravel(), \n",
    "                                              cv=kfold)\n",
    "print(results_vote.mean())\n",
    "#pred_values_voting = voting_ensemble.predict_proba(X_test)\n",
    "#pred_values_voting = pd.DataFrame(pred_values_voting)\n",
    "pred_class_voting = voting_ensemble.predict(X_test)\n",
    "voting_submission = pd.DataFrame({\"class\":pred_class_voting})\n",
    "# comparing the two distributions\n",
    "#plot.hist(y, bins = 'auto', density = True, alpha=0.5, label='Train Distribution')\n",
    "#plot.hist(voting_submission,  density = True, alpha=0.5, label='Test Distribution')\n",
    "#plot.legend(loc='upper right')\n",
    "#plot.title(\"Distribution of Train/Test Data with Voting Ensemble\")\n",
    "#plot.show()"
   ]
  },
  {
   "cell_type": "code",
   "execution_count": 34,
   "id": "advance-swiss",
   "metadata": {},
   "outputs": [
    {
     "name": "stdout",
     "output_type": "stream",
     "text": [
      "0.9523809523809524\n"
     ]
    }
   ],
   "source": [
    "# if we choose stack ensemble: use all train data \n",
    "\n",
    "stackedmodel.fit(X, y.values.ravel())\n",
    "kfold = model_selection.RepeatedStratifiedKFold(n_splits=10, n_repeats=3, random_state=my_rands)\n",
    "results_stack = model_selection.cross_val_score(stackedmodel,\n",
    "                                              X, y.values.ravel(), \n",
    "                                              cv=kfold)\n",
    "print(results_stack.mean())\n",
    "pred_values_stack = stackedmodel.predict_proba(X_test)\n",
    "pred_values_stack = pd.DataFrame(pred_values_stack)\n",
    "pred_class_stack = stackedmodel.predict(X_test)\n",
    "stack_submission = pd.DataFrame({\"class\":pred_class_stack})\n",
    "#stack_submission.to_csv('test_predictions.csv', index=False, header = False)\n",
    "# comparing the two distributions\n",
    "#plot.hist(y, bins = 'auto', density = True, alpha=0.5, label='Train Distribution')\n",
    "#plot.hist(stack_submission,  density = True, alpha=0.5, label='Test Distribution')\n",
    "#plot.legend(loc='upper right')\n",
    "#plot.title(\"Distribution of Train/Test Data with Logistic Stack Ensemble\")\n",
    "#plot.show()"
   ]
  },
  {
   "cell_type": "code",
   "execution_count": 35,
   "id": "unsigned-restriction",
   "metadata": {},
   "outputs": [
    {
     "name": "stdout",
     "output_type": "stream",
     "text": [
      "0.8809523809523809\n"
     ]
    }
   ],
   "source": [
    "# if we choose error correcting model \n",
    "# first we need to re-train the model with all training data                    \n",
    "model_ec.fit(X, y.values.ravel())\n",
    "kfold = model_selection.RepeatedStratifiedKFold(n_splits=10, n_repeats=3, random_state=my_rands)\n",
    "results_ec = model_selection.cross_val_score(model_et, X, y.values.ravel(), cv = kfold, scoring = 'accuracy')\n",
    "print(results_ec.mean()) \n",
    "pred_class_ec = model_ec.predict(X_test)\n",
    "#model_submission_ec = pd.DataFrame({\"class\":pred_class_ec})\n",
    "#model_submission_ec.to_csv('test_predictions_ec.csv', index=False, header = False)\n",
    "# comparing the two distributions\n",
    "#plot.hist(y, bins = 'auto', density = True, alpha=0.5, label='Train Distribution')\n",
    "#plot.hist(model_submission_ec,  density = True, alpha=0.5, label='Test Distribution')\n",
    "#plot.legend(loc='upper right')\n",
    "#plot.title(\"Distribution of Train/Test Data with Error Coding\")\n",
    "#plot.show()"
   ]
  },
  {
   "cell_type": "code",
   "execution_count": 36,
   "id": "numeric-bleeding",
   "metadata": {},
   "outputs": [
    {
     "name": "stdout",
     "output_type": "stream",
     "text": [
      "0.9476190476190475\n"
     ]
    }
   ],
   "source": [
    "# if we choose ElasticNet model\n",
    "# first we need to re-train the model with all training data         \n",
    "model_en = reglogreg2\n",
    "model_en.fit(X, y.values.ravel())\n",
    "kfold = model_selection.RepeatedStratifiedKFold(n_splits=10, n_repeats=3, random_state=my_rands)\n",
    "results_en = model_selection.cross_val_score(model_en, X, y.values.ravel(), cv = kfold, scoring = 'accuracy')\n",
    "print(results_en.mean()) \n",
    "pred_class_en = model_en.predict(X_test)\n",
    "model_submission_en = pd.DataFrame({\"class\":pred_class_en})\n",
    "#model_submission_en.to_csv('test_predictions_en.csv', index=False, header = False)\n",
    "# comparing the two distributions\n",
    "#plot.hist(y, bins = 'auto', density = True, alpha=0.5, label='Train Distribution')\n",
    "#plot.hist(model_submission_en,  density = True, alpha=0.5, label='Test Distribution')\n",
    "#plot.legend(loc='upper right')\n",
    "#plot.title(\"Distribution of Train/Test Data with Error Coding\")\n",
    "#plot.show()"
   ]
  },
  {
   "cell_type": "code",
   "execution_count": 38,
   "id": "handled-brook",
   "metadata": {
    "scrolled": true
   },
   "outputs": [
    {
     "name": "stdout",
     "output_type": "stream",
     "text": [
      "0.9619047619047618\n"
     ]
    }
   ],
   "source": [
    "# if we choose L1-Logistic model \n",
    "results_model = model_selection.cross_val_score(model,X, y.values.ravel(), cv=kfold)\n",
    "print(results_model.mean())\n",
    "pred_class_ = model.predict(X_test)\n",
    "model_submission = pd.DataFrame({\"class\":pred_class_})\n",
    "model_submission.to_csv('test_predictions_model.csv', index=False, header = False)\n",
    "# comparing the two distributions\n",
    "#plot.hist(y, bins = 'auto', density = True, alpha=0.5, label='Train Distribution')\n",
    "#plot.hist(model_submission,  density = True, alpha=0.5, label='Test Distribution')\n",
    "#plot.legend(loc='upper right')\n",
    "#plot.title(\"Distribution of Train/Test Data with L1-Regularized Logistic Regression\")\n",
    "#plot.show()"
   ]
  },
  {
   "cell_type": "markdown",
   "id": "scientific-conjunction",
   "metadata": {},
   "source": [
    "### Post-Study of Predictions\n",
    "\n",
    "We could further investigate the final predictions by comparing yhe empirical distributions of train labels and test labels. One basic logic in any data analysis practice with a goal of prediction is that, the train set and test set are from the same population(some underlying unknown) distribution. This provides us with another simple way to check our predictions from a Statistical point of view. The idea is to regard the labels as multinomial, then we could formulate a hypothesis where the probability of each outcome is the same in the two empirical distributions(train label and predicted test label). The idea is to conduct a Karl Pearson's Chi-Square test to check the goodness-of-fit and determine whether they appear to come from the same underlying distribution. But all of the selected methods are producing close results, and it is hard to reject the null hypothesis where we assume the predicted test labels and the train labels are from the same multinomial distribution, and the statistical inference is not that informative in this case. \n",
    "\n",
    "We could instead consider to measure the relative entropy between the two distributions using \\textit{Kullback-Leibler Divergence} from Information Theory. Generally, the Kullback-Leibler Divergence measures the inefficiency caused by the approximation, and hence it is often useful to think of this relative entropy as a \"distance\" between the two distributions. Given two probability distributions $q(y)$ and $p(y)$, the \\textit{KL}-divergence for discrete variable is defined as\n",
    "$$\n",
    "\tD_{KL}(P||Q) = \\sum_i P(i) \\log \\frac{P(i)}{Q(i)}\n",
    "$$\n",
    "A smaller value indicates the second distribution being more similar to the first distribution."
   ]
  },
  {
   "cell_type": "code",
   "execution_count": 39,
   "id": "confidential-thanksgiving",
   "metadata": {},
   "outputs": [
    {
     "name": "stdout",
     "output_type": "stream",
     "text": [
      "KL Divergence for L1Reg Model:  0.005543949712871452\n",
      "KL Divergence for ElaNetModel:  0.013705298621531022\n",
      "KL Divergence for EC    Model:  0.04287257191446523\n",
      "KL Divergence for Vote  Model:  0.01594287185929872\n",
      "KL Divergence for Stack Model:  0.0039024812738532658\n"
     ]
    }
   ],
   "source": [
    "# KL-divergence between predicted label distribution and train label distribution\n",
    "\n",
    "def KL_divergence(emp_pred, emp_train):\n",
    "    return (emp_train * np.log(emp_train / emp_pred)).sum()\n",
    "\n",
    "# train/predicted test label empirical probability distribution\n",
    "emp1      = stats.relfreq(y, numbins = 3).frequency\n",
    "emp_model = stats.relfreq(pred_class_,       numbins = 3).frequency\n",
    "emp_en    = stats.relfreq(pred_class_en,     numbins = 3).frequency\n",
    "emp_vote  = stats.relfreq(pred_class_voting, numbins = 3).frequency\n",
    "emp_stack = stats.relfreq(pred_class_stack,  numbins = 3).frequency\n",
    "emp_ec    = stats.relfreq(pred_class_ec,     numbins = 3).frequency\n",
    "\n",
    "# calculate the KL divergence of diffrent predictions\n",
    "kl_model = KL_divergence(emp_model, emp1)\n",
    "kl_en    = KL_divergence(emp_en,    emp1)\n",
    "kl_vote  = KL_divergence(emp_vote,  emp1)\n",
    "kl_stack = KL_divergence(emp_stack, emp1)\n",
    "kl_ec    = KL_divergence(emp_ec,    emp1)\n",
    "\n",
    "print(\"KL Divergence for L1Reg Model: \", kl_model)\n",
    "print(\"KL Divergence for ElaNetModel: \", kl_en)\n",
    "print(\"KL Divergence for EC    Model: \", kl_ec )\n",
    "print(\"KL Divergence for Vote  Model: \", kl_vote)\n",
    "print(\"KL Divergence for Stack Model: \", kl_stack)\n"
   ]
  },
  {
   "cell_type": "markdown",
   "id": "infinite-beads",
   "metadata": {},
   "source": [
    "|Methods|KL-Divergence (Descending)|\n",
    "|:--|:--|\n",
    "| Error Correcting   (*in Python*)                | 0.05739005358698904   |\n",
    "| ElasticNet Logistic Regression (*in Python*)    | 0.013705298621531022  |\n",
    "| Voting             (*in Python*)                | 0.011384370611075025  |\n",
    "| Logit Boosting Trees(*in R*)                    | 0.005768591149        |\n",
    "| L1-Regularized Logistic Regression (*in Python*)| 0.005543949712871452  |\n",
    "| Stacking           (*in Python*)                | ***0.0035148908655192185*** |\n",
    "| Factor-Based LDA(*in R*)                        | 0.0001705475648       |\n",
    "| Maximum Uncertainty LDA(*in R*)                 | ***0.00003280012858***      |\n",
    "   \n",
    "Based on the results, among the methods available in *Python's sklearn*, stacking emseble is behaving the best, and our Regularized Logistic regression behaves similar to voting ensemble, but it keeps a simpler form and makes it easy to interprete and saves computational time and memory, with some sacrifice in accuracy when reproducing the label distribution.\n",
    "\n",
    "I end up using the stacking in predicting test labels, the results are stored in the two excel files."
   ]
  },
  {
   "cell_type": "code",
   "execution_count": 40,
   "id": "sought-boulder",
   "metadata": {},
   "outputs": [],
   "source": [
    "#stack_submission.to_csv('test_predictions.csv', index=False, header = False)"
   ]
  },
  {
   "cell_type": "markdown",
   "id": "ignored-memphis",
   "metadata": {},
   "source": [
    "## 8. Supplemental R Code\n",
    "\n",
    "Here we attached the related R code that envolves training mentioned models not available in Python *sklearn*.\n",
    "\n",
    "```css\n",
    "library(gbm)          \n",
    "library(xgboost)      \n",
    "library(caret)        \n",
    "library(ggplot2)      \n",
    "set.seed(20210512)\n",
    "y = read.csv(\"train_labels.csv\", header = F)\n",
    "y = as.factor(y$V1)\n",
    "X_train = read.csv(\"train_features.csv\", header = F)\n",
    "X_test = read.csv(\"test_features.csv\", header = F)\n",
    "X_train = data.frame(X_train)\n",
    "X_test = data.frame(X_test)\n",
    "col_names = c()\n",
    "for (i in 1:dim(X_train)[2]){\n",
    "    name = paste0(\"V\", i-1)\n",
    "    col_names = cbind(col_names, name)\n",
    "}\n",
    "colnames(X_train) = col_names\n",
    "colnames(X_test) = col_names\n",
    "my_train_scaled = scale(X_train[,4:903])\n",
    "my_test_scaled = scale(X_test[, 4:903], center=attr(my_train_scaled, \n",
    "                                                    \"scaled:center\"), \n",
    "                                           scale=attr(my_train_scaled, \n",
    "                                                      \"scaled:scale\"))\n",
    "\n",
    "my_train_scaled = cbind(my_train_scaled, X_train[, 1:3])\n",
    "my_test_scaled = cbind(my_test_scaled, X_test[, 1:3])\n",
    "X_train = my_train_scaled\n",
    "X_test = my_test_scaled\n",
    "X_train_dummy = dummyVars(\" ~ .\", data = X_train)\n",
    "X_train_1hEncode = data.frame(predict(X_train_dummy, newdata = X_train))\n",
    "X_test_dummy = dummyVars(\" ~ .\", data = X_test)\n",
    "train_1h = cbind(X_train_1hEncode, y)\n",
    "X_test_1hEncode = data.frame(predict(X_test_dummy, newdata = X_test))\n",
    "control = trainControl(\n",
    "    method = \"repeatedcv\",\n",
    "    number = 3,\n",
    "    repeats = 3,\n",
    "    verbose = TRUE,\n",
    "    search = \"grid\",\n",
    "    allowParallel = TRUE\n",
    ")\n",
    "fit_regLogistic_1 = caret::train(\n",
    "    y ~ .,\n",
    "    data = train_1h,\n",
    "    method = \"regLogistic\", \n",
    "    metric = \"Accuracy\",\n",
    "    trControl = control\n",
    ")\n",
    "fit_RFlda_1 = caret::train(\n",
    "    y ~ .,\n",
    "    data = train_1h,\n",
    "    method = \"RFlda\", \n",
    "    metric = \"Accuracy\",\n",
    "    trControl = control\n",
    ")\n",
    "fit_glmnet_1 = caret::train(\n",
    "    y ~ .,\n",
    "    data = train_1h,\n",
    "    method = \"glmnet\", \n",
    "    metric = \"Accuracy\",\n",
    "    trControl = control\n",
    ")\n",
    "fit_LMT_1 = caret::train(\n",
    "    y ~ .,\n",
    "    data = train_1h,\n",
    "    method = \"LMT\", \n",
    "    metric = \"Accuracy\",\n",
    "    trControl = control\n",
    ")\n",
    "fit_Mlda_1 = caret::train(\n",
    "    y ~ .,\n",
    "    data = train_1h,\n",
    "    method = \"Mlda\", \n",
    "    metric = \"Accuracy\",\n",
    "    trControl = control\n",
    ")\n",
    "meta_rl = predict(fit_regLogistic_1, newdata = X_test_1hEncode, type = \"raw\") # rawability of each category\n",
    "meta_rf_lda = predict(fit_RFlda_1,   newdata = X_test_1hEncode, type = \"raw\")\n",
    "meta_glmnet = predict(fit_glmnet_1,  newdata = X_test_1hEncode, type = \"raw\")\n",
    "meta_lmt = predict(fit_LMT_1,   newdata = X_test_1hEncode, type = \"raw\")\n",
    "meta_mlda = predict(fit_Mlda_1, newdata = X_test_1hEncode, type = \"raw\")\n",
    "# probability dist\n",
    "(emp1             = table(y) / length(y))\n",
    "(emp_meta_rf_lda  = table(meta_rf_lda) / length(meta_rf_lda))\n",
    "(emp_meta_glmnet  = table(meta_glmnet) / length(meta_glmnet))\n",
    "(emp_meta_lmt     = table(meta_lmt) / length(meta_lmt))\n",
    "(emp_meta_mlda    = table(meta_mlda) / length(meta_mlda))\n",
    "# calculate the KL-divergence\n",
    "KL_divergence = function(emp_pred, emp_base = emp1){\n",
    "    sum(emp_base * log(emp_base / emp_pred) )\n",
    "}\n",
    "#(kl_final_preds = KL_divergence(emp_final_preds)) \n",
    "(kl_meta_base    = KL_divergence(emp1, emp1)) # 0\n",
    "(kl_meta_rflda   = KL_divergence(emp_meta_rf_lda, emp1))\n",
    "(kl_meta_glmnet  = KL_divergence(emp_meta_glmnet, emp1))\n",
    "(kl_meta_lmt     = KL_divergence(emp_meta_lmt, emp1))\n",
    "(kl_meta_mlda    = KL_divergence(emp_meta_mlda, emp1))\n",
    "kl_meta_rflda > kl_meta_mlda\n",
    "```"
   ]
  }
 ],
 "metadata": {
  "kernelspec": {
   "display_name": "Python 3",
   "language": "python",
   "name": "python3"
  },
  "language_info": {
   "codemirror_mode": {
    "name": "ipython",
    "version": 3
   },
   "file_extension": ".py",
   "mimetype": "text/x-python",
   "name": "python",
   "nbconvert_exporter": "python",
   "pygments_lexer": "ipython3",
   "version": "3.6.12"
  }
 },
 "nbformat": 4,
 "nbformat_minor": 5
}
